{
 "cells": [
  {
   "cell_type": "code",
   "execution_count": 1,
   "id": "aae0012c-b481-4e8f-8da5-de065ed719c9",
   "metadata": {},
   "outputs": [],
   "source": [
    "import cv2\n",
    "import pandas as pd\n",
    "import numpy as np\n",
    "from IPython.display import display, Image\n",
    "import ipywidgets as widgets\n",
    "from ipywidgets import interact, Layout\n",
    "import cvzone\n",
    "import time\n",
    "import threading\n",
    "import multiprocessing as mp\n",
    "from multiprocessing.shared_memory import SharedMemory\n",
    "from importlib import reload\n",
    "import t1, t2, t3\n",
    "import pickle"
   ]
  },
  {
   "cell_type": "code",
   "execution_count": null,
   "id": "893375c4-c2f6-4cf4-a2b1-039a14b4abb2",
   "metadata": {
    "scrolled": true
   },
   "outputs": [],
   "source": [
    "reload(t1)\n",
    "from t1 import preprocess, contours, reorder, get_warp\n",
    "\n",
    "font = cv2.FONT_HERSHEY_SIMPLEX\n",
    "width_img = 1280\n",
    "height_img = 960\n",
    "\n",
    "with open('data/df.pkl', 'rb') as f:\n",
    "    df = pickle.load(f)\n",
    "\n",
    "ID_name = mp.Array('c', b'')\n",
    "# variable.value = b'ddsds'\n",
    "\n",
    "train = mp.Value('i', 0)\n",
    "prediction = mp.Value('i', 0)\n",
    "\n",
    "tmp = mp.Value('i', 0)\n",
    "tmp2 = mp.Value('i', 0)\n",
    "contours_size = mp.Value('i', 0)\n",
    "rectangles_sum = mp.Value('i', 0)\n",
    "\n",
    "frame_memory = SharedMemory(name='FrameMemory', create=True, size=width_img*height_img*3)\n",
    "contours_memory = SharedMemory(name='ContoursMemory', create=True, size=4096)\n",
    "rectangles_memory = SharedMemory(name='RectanglesMemory', create=True, size=100_000)\n",
    "\n",
    "p1 = mp.Process(target=t2.ocr_detect, args=(tmp, tmp2, width_img, height_img, rectangles_sum, contours_size,), daemon=True)\n",
    "p1.start()\n",
    "\n",
    "p2 = mp.Process(target=t3.model_detect, args=(rectangles_sum, prediction, train, tmp2), daemon=True)\n",
    "p2.start()\n",
    "\n",
    "stop_button = widgets.ToggleButton(description='Stop', disabled=False)\n",
    "train_button = widgets.ToggleButton(description='Train', disabled=False)\n",
    "output = widgets.HTML(value=' ', description='Train:', disabled=False)\n",
    "text = widgets.Text(value='', placeholder='Type ID name', description='ID_name:', disabled=False)\n",
    "grid = widgets.GridBox([stop_button, output, train_button, text], layout=widgets.Layout(grid_template_columns='repeat(4, 200px)'))\n",
    "\n",
    "# ID_card TRAIN/CHECK\n",
    "def text_detection(frame, img, contours_data, df): \n",
    "    tensor = np.empty((1,4))\n",
    "    for contour in contours_data[:,:]:\n",
    "        x, y, w, h = contour[0], contour[2], contour[1], contour[3]\n",
    "        cv2.rectangle(img, (x, y), (w, h), (255, 255, 0), 6)\n",
    "\n",
    "    if rectangles_sum.value == 0 and train.value == 0:\n",
    "        st = 'Detecting...'\n",
    "        color = (0, 0, 255)\n",
    "    elif train.value == 1:\n",
    "        st = 'Learning...'\n",
    "        color = (255, 0, 0)\n",
    "    else:   \n",
    "        color = (0, 255, 0)\n",
    "        st = df['Name'][df['ID'] == prediction.value].iloc[0]\n",
    "\n",
    "    cv2.putText(frame, st, (7, 70), font, 3, color, 7, cv2.LINE_AA)\n",
    "\n",
    "def close(cap):\n",
    "    cap.release()\n",
    "    frame_memory.close()\n",
    "    frame_memory.unlink()\n",
    "    contours_memory.close()\n",
    "    contours_memory.unlink()\n",
    "    rectangles_memory.close()\n",
    "    rectangles_memory.unlink()\n",
    "    p1.terminate()\n",
    "    p2.terminate()\n",
    "\n",
    "def view(grid, df):\n",
    "    cap = cv2.VideoCapture(0)\n",
    "    display_handle=display(None, display_id=True)\n",
    "    frame_data = np.ndarray((height_img,width_img,3), dtype=np.uint8, buffer=frame_memory.buf)\n",
    "    contours_data = np.ndarray((1,4), dtype=np.int32, buffer=contours_memory.buf)\n",
    "\n",
    "    while True:\n",
    "        _, frame = cap.read()\n",
    "\n",
    "        frame_masked = preprocess(frame)\n",
    "        frame_contours = contours(frame_masked, frame)\n",
    "\n",
    "        # output.value = str(train.value)\n",
    "        output.value = str(len(ID_name.value))\n",
    "\n",
    "        if frame_contours.size != 0:\n",
    "            img_warped = get_warp(frame, frame_contours)\n",
    "            contours_size.value = 1\n",
    "            if tmp.value == 1:\n",
    "                frame_data[:,:,:] = img_warped[:,:,:]\n",
    "                contours_data = np.ndarray((rectangles_sum.value,4), dtype=np.int32, buffer=contours_memory.buf)\n",
    "                tmp.value = 0\n",
    "            frame_detect = text_detection(frame, img_warped, contours_data, df)\n",
    "            \n",
    "        else:\n",
    "            img_warped = frame.copy()\n",
    "            rectangles_sum.value = 0\n",
    "            frame_data[:,:,:] = img_warped[0,0,0]\n",
    "\n",
    "        img_stack = cvzone.stackImages([\n",
    "            frame,\n",
    "            img_warped,\n",
    "        ], 2, 1)\n",
    "\n",
    "        _, frame = cv2.imencode('.jpeg', img_stack) \n",
    "        display_handle.update(Image(data=frame.tobytes()))\n",
    "        \n",
    "        \n",
    "        if stop_button.value==True:\n",
    "            close(cap)\n",
    "            display_handle.update(None)\n",
    "\n",
    "        if train_button.value==True:\n",
    "            train.value = 1\n",
    "            train_button.value = False\n",
    "\n",
    "        if train.value == 2:\n",
    "            with open('data/df.pkl', 'rb') as f:\n",
    "                df = pickle.load(f)\n",
    "            train.value = 0\n",
    "            \n",
    "\n",
    "\n",
    "display(grid)\n",
    "thread = threading.Thread(target=view, args=(grid, df))\n",
    "thread.start()"
   ]
  },
  {
   "cell_type": "code",
   "execution_count": null,
   "id": "1788162c-37cc-420d-ae3e-6ce308f36717",
   "metadata": {},
   "outputs": [],
   "source": [
    "p1.terminate()\n",
    "p2.terminate()\n",
    "frame_memory.close()\n",
    "frame_memory.unlink()\n",
    "contours_memory.close()\n",
    "contours_memory.unlink()\n",
    "rectangles_memory.close()\n",
    "rectangles_memory.unlink()\n",
    "time.sleep(0.1)\n",
    "p1.is_alive()"
   ]
  },
  {
   "cell_type": "code",
   "execution_count": 3,
   "id": "cdc41714-9d54-4720-bf2d-8fb0a2f8318d",
   "metadata": {},
   "outputs": [
    {
     "name": "stdout",
     "output_type": "stream",
     "text": [
      "False False False\n"
     ]
    }
   ],
   "source": [
    "print(p1.is_alive(), p2.is_alive(), thread.is_alive())"
   ]
  },
  {
   "cell_type": "code",
   "execution_count": null,
   "id": "ef5debc5-d4e8-4c41-9670-0a383ccd75f0",
   "metadata": {},
   "outputs": [],
   "source": []
  },
  {
   "cell_type": "code",
   "execution_count": 8,
   "id": "d9351bc7-7984-4466-8441-6ac4c48fa4ee",
   "metadata": {},
   "outputs": [
    {
     "data": {
      "text/html": [
       "<div>\n",
       "<style scoped>\n",
       "    .dataframe tbody tr th:only-of-type {\n",
       "        vertical-align: middle;\n",
       "    }\n",
       "\n",
       "    .dataframe tbody tr th {\n",
       "        vertical-align: top;\n",
       "    }\n",
       "\n",
       "    .dataframe thead th {\n",
       "        text-align: right;\n",
       "    }\n",
       "</style>\n",
       "<table border=\"1\" class=\"dataframe\">\n",
       "  <thead>\n",
       "    <tr style=\"text-align: right;\">\n",
       "      <th></th>\n",
       "      <th>ID</th>\n",
       "      <th>Name</th>\n",
       "    </tr>\n",
       "  </thead>\n",
       "  <tbody>\n",
       "    <tr>\n",
       "      <th>0</th>\n",
       "      <td>0</td>\n",
       "      <td>Karta Polaka (FRONT)</td>\n",
       "    </tr>\n",
       "    <tr>\n",
       "      <th>1</th>\n",
       "      <td>1</td>\n",
       "      <td>Karta Polaka (BACK)</td>\n",
       "    </tr>\n",
       "  </tbody>\n",
       "</table>\n",
       "</div>"
      ],
      "text/plain": [
       "   ID                  Name\n",
       "0   0  Karta Polaka (FRONT)\n",
       "1   1   Karta Polaka (BACK)"
      ]
     },
     "execution_count": 8,
     "metadata": {},
     "output_type": "execute_result"
    }
   ],
   "source": [
    "df = pd.DataFrame({'ID': [0, 1], 'Name': ['Karta Polaka (FRONT)', 'Karta Polaka (BACK)']})\n",
    "df"
   ]
  },
  {
   "cell_type": "code",
   "execution_count": 10,
   "id": "842595df-aa71-4ae0-bed7-e2aaf102bd86",
   "metadata": {},
   "outputs": [],
   "source": [
    "with open('data/df.pkl', 'rb') as f:\n",
    "    df = pickle.load(f)"
   ]
  },
  {
   "cell_type": "code",
   "execution_count": 29,
   "id": "6fc5e37e-17c2-4657-947a-e8f866ea6b61",
   "metadata": {},
   "outputs": [
    {
     "data": {
      "text/html": [
       "<div>\n",
       "<style scoped>\n",
       "    .dataframe tbody tr th:only-of-type {\n",
       "        vertical-align: middle;\n",
       "    }\n",
       "\n",
       "    .dataframe tbody tr th {\n",
       "        vertical-align: top;\n",
       "    }\n",
       "\n",
       "    .dataframe thead th {\n",
       "        text-align: right;\n",
       "    }\n",
       "</style>\n",
       "<table border=\"1\" class=\"dataframe\">\n",
       "  <thead>\n",
       "    <tr style=\"text-align: right;\">\n",
       "      <th></th>\n",
       "      <th>ID</th>\n",
       "      <th>Name</th>\n",
       "    </tr>\n",
       "  </thead>\n",
       "  <tbody>\n",
       "    <tr>\n",
       "      <th>0</th>\n",
       "      <td>0</td>\n",
       "      <td>Karta Polaka (FRONT)</td>\n",
       "    </tr>\n",
       "    <tr>\n",
       "      <th>1</th>\n",
       "      <td>1</td>\n",
       "      <td>Karta Polaka (BACK)</td>\n",
       "    </tr>\n",
       "  </tbody>\n",
       "</table>\n",
       "</div>"
      ],
      "text/plain": [
       "   ID                  Name\n",
       "0   0  Karta Polaka (FRONT)\n",
       "1   1   Karta Polaka (BACK)"
      ]
     },
     "execution_count": 29,
     "metadata": {},
     "output_type": "execute_result"
    }
   ],
   "source": [
    "df"
   ]
  },
  {
   "cell_type": "code",
   "execution_count": 8,
   "id": "4c537b3f-0107-4cf1-90df-56043e99938e",
   "metadata": {},
   "outputs": [
    {
     "data": {
      "application/vnd.jupyter.widget-view+json": {
       "model_id": "8d2fe0bfe0a849d1b910a483680a5b72",
       "version_major": 2,
       "version_minor": 0
      },
      "text/plain": [
       "Text(value='', description='ID_name:', placeholder='Type ID name')"
      ]
     },
     "metadata": {},
     "output_type": "display_data"
    }
   ],
   "source": [
    "out = widgets.Output()\n",
    "\n",
    "\n",
    "text = widgets.Text(value='', placeholder='Type ID name', description='ID_name:', disabled=False)\n",
    "display(text)"
   ]
  },
  {
   "cell_type": "code",
   "execution_count": null,
   "id": "c01dc48a-d425-4d4c-89d1-0b48bdc42e11",
   "metadata": {},
   "outputs": [],
   "source": []
  },
  {
   "cell_type": "code",
   "execution_count": null,
   "id": "9d8c6714-63df-435e-bcd8-4932f30bf858",
   "metadata": {},
   "outputs": [],
   "source": []
  },
  {
   "cell_type": "code",
   "execution_count": null,
   "id": "5c0a7ada-e7f1-451c-a005-04da3c7a4d66",
   "metadata": {},
   "outputs": [],
   "source": []
  }
 ],
 "metadata": {
  "kernelspec": {
   "display_name": "Python 3 (ipykernel)",
   "language": "python",
   "name": "python3"
  },
  "language_info": {
   "codemirror_mode": {
    "name": "ipython",
    "version": 3
   },
   "file_extension": ".py",
   "mimetype": "text/x-python",
   "name": "python",
   "nbconvert_exporter": "python",
   "pygments_lexer": "ipython3",
   "version": "3.11.3"
  }
 },
 "nbformat": 4,
 "nbformat_minor": 5
}
