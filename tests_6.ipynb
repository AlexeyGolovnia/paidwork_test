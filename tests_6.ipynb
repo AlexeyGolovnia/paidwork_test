{
 "cells": [
  {
   "cell_type": "code",
   "execution_count": 1,
   "id": "2ad23c23-3cb6-4639-b44a-d9de7d7f9bc7",
   "metadata": {},
   "outputs": [],
   "source": [
    "import matplotlib.pyplot as plt\n",
    "import cv2\n",
    "import numpy as np\n",
    "from IPython.display import display, Image\n",
    "import ipywidgets as widgets\n",
    "from ipywidgets import interact, Layout\n",
    "import threading\n",
    "import cvzone"
   ]
  },
  {
   "cell_type": "code",
   "execution_count": 23,
   "id": "83ee891e-7721-4163-b2be-b85633f6db15",
   "metadata": {},
   "outputs": [
    {
     "data": {
      "application/vnd.jupyter.widget-view+json": {
       "model_id": "045503240cc74967bea7352251964d13",
       "version_major": 2,
       "version_minor": 0
      },
      "text/plain": [
       "ToggleButton(value=False, description='Stop')"
      ]
     },
     "metadata": {},
     "output_type": "display_data"
    },
    {
     "data": {
      "application/vnd.jupyter.widget-view+json": {
       "model_id": "2f70aac0567a4887a1ceca9bfc3d2878",
       "version_major": 2,
       "version_minor": 0
      },
      "text/plain": [
       "IntRangeSlider(value=(96, 255), description='Canny_threshold', layout=Layout(width='80%'), max=255)"
      ]
     },
     "metadata": {},
     "output_type": "display_data"
    },
    {
     "data": {
      "application/vnd.jupyter.widget-view+json": {
       "model_id": "8cf0fc5c4fe54dbd9079d4c63161a42f",
       "version_major": 2,
       "version_minor": 0
      },
      "text/plain": [
       "IntRangeSlider(value=(0, 255), description='hue', layout=Layout(width='80%'), max=255)"
      ]
     },
     "metadata": {},
     "output_type": "display_data"
    },
    {
     "data": {
      "application/vnd.jupyter.widget-view+json": {
       "model_id": "b748242c34b64725a2ed4f75dde22f73",
       "version_major": 2,
       "version_minor": 0
      },
      "text/plain": [
       "IntRangeSlider(value=(150, 255), description='sat', layout=Layout(width='80%'), max=255)"
      ]
     },
     "metadata": {},
     "output_type": "display_data"
    },
    {
     "data": {
      "application/vnd.jupyter.widget-view+json": {
       "model_id": "d3adffcd818d461d8bb2c835b46156bd",
       "version_major": 2,
       "version_minor": 0
      },
      "text/plain": [
       "IntRangeSlider(value=(0, 255), description='val', layout=Layout(width='80%'), max=255)"
      ]
     },
     "metadata": {},
     "output_type": "display_data"
    },
    {
     "data": {
      "text/plain": [
       "None"
      ]
     },
     "metadata": {},
     "output_type": "display_data"
    }
   ],
   "source": [
    "width_img = 640\n",
    "height_img = 480\n",
    "\n",
    "stopButton = widgets.ToggleButton(description='Stop', disabled=False)\n",
    "\n",
    "val1 = widgets.IntRangeSlider(min=0, max=255, step=1, value=[96, 255], layout=Layout(width='80%'), description='Canny_threshold')\n",
    "val2 = widgets.IntRangeSlider(min=0, max=255, step=1, value=[180, 255], layout=Layout(width='80%'))\n",
    "val3 = widgets.RadioButtons(options=[True, False], description='L2Gradient', disabled=False)\n",
    "\n",
    "b1 = [0,255,150,255,0,255]\n",
    "a = b1.copy()\n",
    "hue = widgets.IntRangeSlider(min=0, max=255, step=1, value=[a[0], a[1]], layout=Layout(width='80%'), description='hue')\n",
    "sat = widgets.IntRangeSlider(min=0, max=255, step=1, value=[a[2], a[3]], layout=Layout(width='80%'), description='sat')\n",
    "val = widgets.IntRangeSlider(min=0, max=255, step=1, value=[a[4], a[5]], layout=Layout(width='80%'), description='val')\n",
    "\n",
    "def preprocess(fr, v1, hue, sat, val):\n",
    "    mask = cv2.cvtColor(fr, cv2.COLOR_BGR2GRAY)\n",
    "    mask = cv2.GaussianBlur(mask, (5,5), 2)\n",
    "    mask = cv2.Canny(mask, v1.value[0], v1.value[1], apertureSize=5)\n",
    "\t# mask = cv2.dilate(mask, np.ones((5,5)), iterations=2)\n",
    "    # mask = cv2.erode(mask, np.ones((5,5)), iterations=1)\n",
    "    return mask\n",
    "\n",
    "def contours(fr_m, fr):\n",
    "    biggest = np.array([])\n",
    "    max_area = 0\n",
    "    contours, hierarchy = cv2.findContours(fr_m, cv2.RETR_EXTERNAL, cv2.CHAIN_APPROX_SIMPLE)\n",
    "    # contours, hierarchy = cv2.findContours(fr_m, cv2.RETR_EXTERNAL, method=1)\n",
    "    for cnt in contours:\n",
    "        area = cv2.contourArea(cnt)\n",
    "        if area > 100_000:\n",
    "            epsilon = 0.1 * cv2.arcLength(cnt, True)\n",
    "            # approx = cv2.convexHull(cnt)\n",
    "            approx = cv2.approxPolyDP(cnt, epsilon, True)\n",
    "            cv2.drawContours(fr, cnt, -1, (0,255,0), 5)\n",
    "            if area > max_area and len(approx) == 4:\n",
    "                biggest = approx\n",
    "                max_area = area\n",
    "    # cv2.drawContours(fr, biggest, -1, (0,255,0), 30)\n",
    "    return biggest\n",
    "\n",
    "def reorder(my_points):\n",
    "    my_points = my_points.reshape((4,2))\n",
    "    my_points_new = np.zeros((4,1,2), np.int32)\n",
    "    add = my_points.sum(1)\n",
    "\n",
    "    my_points_new[0] = my_points[np.argmin(add)]\n",
    "    my_points_new[3] = my_points[np.argmax(add)]\n",
    "\n",
    "    diff = np.diff(my_points, axis=1)\n",
    "\n",
    "    my_points_new[1] = my_points[np.argmin(diff)]\n",
    "    my_points_new[2] = my_points[np.argmax(diff)]\n",
    "\n",
    "    return my_points_new\n",
    "\n",
    "def get_warp(img, approx):\n",
    "    biggest = reorder(approx)\n",
    "    # print(approx.shape)\n",
    "\n",
    "    pts1 = np.float32(biggest)\n",
    "    pts2 = np.float32([[0, 0], [width_img, 0], [0, height_img], [width_img, height_img]])\n",
    "    matrix = cv2.getPerspectiveTransform(pts1, pts2)\n",
    "    img_output = cv2.warpPerspective(img, matrix, (width_img, height_img))\n",
    "\n",
    "    # img_cropped = img_output[20:img_output.shape[0]-20, 20:img_output.shape[1]-20]\n",
    "    img_cropped = cv2.resize(img_output, (width_img, height_img))\n",
    "    return img_cropped\n",
    "\n",
    "def text_detection(img):\n",
    "    gray = cv2.cvtColor(img, cv2.COLOR_BGR2GRAY)\n",
    "    mser = cv2.MSER_create()\n",
    "    regions, _ = mser.detectRegions(gray)\n",
    "    for i, region in enumerate(regions):\n",
    "        x, y, w, h = cv2.boundingRect(region)\n",
    "        cv2.rectangle(img, (x, y), (x + w, y + h), (0, 255, 0), 2)\n",
    "\n",
    "def view(button, val1, hue, sat, val):\n",
    "    cap = cv2.VideoCapture(0)\n",
    "    display_handle=display(None, display_id=True)\n",
    "\n",
    "    while True:\n",
    "        _, frame = cap.read()\n",
    "        # frame_height, frame_width, _ = frame.shape\n",
    "        # print(frame.shape)\n",
    "\n",
    "        frame_masked = preprocess(frame, val1, hue, sat, val)\n",
    "        frame_contours = contours(frame_masked, frame)\n",
    "\n",
    "        if frame_contours.size != 0:\n",
    "            img_warped = get_warp(frame, frame_contours)\n",
    "            frame_detect = text_detection(img_warped)\n",
    "            # print(biggest)\n",
    "        else:\n",
    "            img_warped = frame.copy()\n",
    "\n",
    "        img_stack = cvzone.stackImages([\n",
    "            frame,\n",
    "            frame_masked,\n",
    "            img_warped,\n",
    "            # frame_hsv,\n",
    "        ], 3, 1)\n",
    "\n",
    "        _, frame = cv2.imencode('.jpeg', img_stack) \n",
    "        display_handle.update(Image(data=frame.tobytes()))\n",
    "        if stopButton.value==True:\n",
    "            cap.release()\n",
    "            display_handle.update(None)\n",
    "\n",
    "display(stopButton, val1, hue, sat, val)\n",
    "thread = threading.Thread(target=view, args=(stopButton, val1, hue, sat, val))\n",
    "thread.start()"
   ]
  },
  {
   "cell_type": "code",
   "execution_count": null,
   "id": "76ab9c9e-86e3-418c-a3c7-334f72e2b754",
   "metadata": {},
   "outputs": [],
   "source": []
  },
  {
   "cell_type": "code",
   "execution_count": null,
   "id": "5397147b-fea9-4631-9118-4e1164b881c6",
   "metadata": {},
   "outputs": [],
   "source": []
  },
  {
   "cell_type": "code",
   "execution_count": null,
   "id": "6981039a-0352-4ad6-942b-6982c960a3f6",
   "metadata": {},
   "outputs": [],
   "source": []
  },
  {
   "cell_type": "code",
   "execution_count": null,
   "id": "6ebaf720-1862-4e52-b6f4-7ba6c9157ded",
   "metadata": {},
   "outputs": [],
   "source": []
  },
  {
   "cell_type": "code",
   "execution_count": null,
   "id": "01c2bbdc-49b2-44ae-80ce-1895b16c092d",
   "metadata": {},
   "outputs": [],
   "source": []
  },
  {
   "cell_type": "code",
   "execution_count": null,
   "id": "7bf4a480-799f-48b2-8b81-b0d33726fa0f",
   "metadata": {},
   "outputs": [],
   "source": []
  },
  {
   "cell_type": "code",
   "execution_count": null,
   "id": "84b0a0bf-9d66-4e16-8bb4-ad543cfcc919",
   "metadata": {},
   "outputs": [],
   "source": []
  },
  {
   "cell_type": "code",
   "execution_count": null,
   "id": "ea33b64d-0109-41f9-91a2-852b749ef50f",
   "metadata": {},
   "outputs": [],
   "source": []
  },
  {
   "cell_type": "code",
   "execution_count": null,
   "id": "2e55f3c6-18eb-4102-af4c-61819c882be4",
   "metadata": {},
   "outputs": [],
   "source": []
  },
  {
   "cell_type": "code",
   "execution_count": null,
   "id": "a217c8bf-f01b-4ad6-b48e-cf30825c2d1a",
   "metadata": {},
   "outputs": [],
   "source": []
  },
  {
   "cell_type": "code",
   "execution_count": null,
   "id": "2b4e17cb-3db3-43f4-b2c2-277457db6b10",
   "metadata": {},
   "outputs": [],
   "source": []
  },
  {
   "cell_type": "code",
   "execution_count": null,
   "id": "0f11844a-3523-4c35-9774-fcb658ce2270",
   "metadata": {},
   "outputs": [],
   "source": []
  },
  {
   "cell_type": "code",
   "execution_count": null,
   "id": "70a6f7a6-1427-4ac2-b8c5-e6ffd7183434",
   "metadata": {},
   "outputs": [],
   "source": []
  },
  {
   "cell_type": "code",
   "execution_count": null,
   "id": "f7d6f3f7-8db7-4997-b3ce-68fce404a739",
   "metadata": {},
   "outputs": [],
   "source": []
  },
  {
   "cell_type": "code",
   "execution_count": null,
   "id": "e391e506-54e8-4488-b883-170bf5ff36b8",
   "metadata": {},
   "outputs": [],
   "source": []
  },
  {
   "cell_type": "code",
   "execution_count": null,
   "id": "59e9e3b0-056b-400c-ab98-5dfcd9058cfa",
   "metadata": {},
   "outputs": [],
   "source": []
  },
  {
   "cell_type": "code",
   "execution_count": null,
   "id": "45420808-596e-4bf4-9c5a-cb0f43f47fbd",
   "metadata": {},
   "outputs": [],
   "source": []
  }
 ],
 "metadata": {
  "kernelspec": {
   "display_name": "Python 3 (ipykernel)",
   "language": "python",
   "name": "python3"
  },
  "language_info": {
   "codemirror_mode": {
    "name": "ipython",
    "version": 3
   },
   "file_extension": ".py",
   "mimetype": "text/x-python",
   "name": "python",
   "nbconvert_exporter": "python",
   "pygments_lexer": "ipython3",
   "version": "3.11.3"
  }
 },
 "nbformat": 4,
 "nbformat_minor": 5
}
