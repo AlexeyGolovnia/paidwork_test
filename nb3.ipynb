{
 "cells": [
  {
   "cell_type": "code",
   "execution_count": 1,
   "id": "7800d7fb-4eda-4361-a089-3ef262873500",
   "metadata": {},
   "outputs": [],
   "source": [
    "import cv2\n",
    "import numpy as np\n",
    "from IPython.display import display, Image\n",
    "import ipywidgets as widgets\n",
    "from ipywidgets import interact, Layout\n",
    "import cvzone\n",
    "import time\n",
    "import threading\n",
    "import multiprocessing as mp\n",
    "from multiprocessing.shared_memory import SharedMemory\n",
    "from sklearn.model_selection import train_test_split\n",
    "from sklearn.preprocessing import OneHotEncoder\n",
    "import t2\n",
    "import pickle, dill\n",
    "import pandas as pd\n",
    "import matplotlib.pyplot as plt\n",
    "import torch\n",
    "import torch.nn as nn"
   ]
  },
  {
   "cell_type": "code",
   "execution_count": 2,
   "id": "a98a7f5b-07e7-4d14-9d62-917e882dfb26",
   "metadata": {},
   "outputs": [],
   "source": [
    "with open('model_0.pkl', 'rb') as file:  \n",
    "    clf = pickle.load(file)"
   ]
  },
  {
   "cell_type": "code",
   "execution_count": 4,
   "id": "b7f4e037-298a-47c8-9290-ae952d4e5efa",
   "metadata": {},
   "outputs": [],
   "source": []
  },
  {
   "cell_type": "code",
   "execution_count": 4,
   "id": "b77cc79a-9105-46a7-8ec4-9ddf1c6828ff",
   "metadata": {},
   "outputs": [],
   "source": [
    "font = cv2.FONT_HERSHEY_SIMPLEX\n",
    "width_img = 1280\n",
    "height_img = 960\n",
    "\n",
    "a = df['HSV'][df['ID'] == 1].iloc[0][1]\n",
    "hue = widgets.IntRangeSlider(min=0, max=258, step=1, value=[a[0], a[1]], layout=Layout(width='80%'), description='Hue')\n",
    "sat = widgets.IntRangeSlider(min=0, max=255, step=1, value=[a[2], a[3]], layout=Layout(width='80%'), description='Saturation')\n",
    "val = widgets.IntRangeSlider(min=0, max=255, step=1, value=[a[4], a[5]], layout=Layout(width='80%'), description='Value')\n",
    "\n",
    "x1 = widgets.IntSlider(min=0, max=width_img, step=1, value=100, layout=Layout(width='80%'), description='x1')\n",
    "y1 = widgets.IntSlider(min=0, max=height_img, step=1, value=100, layout=Layout(width='80%'), description='y1')\n",
    "w = widgets.IntSlider(min=0, max=width_img, step=1, value=300, layout=Layout(width='80%'), description='w')\n",
    "h = widgets.IntSlider(min=0, max=height_img, step=1, value=300, layout=Layout(width='80%'), description='h')"
   ]
  },
  {
   "cell_type": "code",
   "execution_count": 5,
   "id": "3de9987f-800b-424c-8ce5-99b972708e83",
   "metadata": {
    "editable": true,
    "slideshow": {
     "slide_type": ""
    },
    "tags": []
   },
   "outputs": [
    {
     "data": {
      "text/plain": [
       "None"
      ]
     },
     "metadata": {},
     "output_type": "display_data"
    },
    {
     "data": {
      "application/vnd.jupyter.widget-view+json": {
       "model_id": "589aaec7734140e3af524655a5afd809",
       "version_major": 2,
       "version_minor": 0
      },
      "text/plain": [
       "ToggleButton(value=False, description='Stop')"
      ]
     },
     "metadata": {},
     "output_type": "display_data"
    },
    {
     "data": {
      "application/vnd.jupyter.widget-view+json": {
       "model_id": "1a6842025ba64887a503742162b286d5",
       "version_major": 2,
       "version_minor": 0
      },
      "text/plain": [
       "IntRangeSlider(value=(0, 65), description='Hue', layout=Layout(width='80%'), max=258)"
      ]
     },
     "metadata": {},
     "output_type": "display_data"
    },
    {
     "data": {
      "application/vnd.jupyter.widget-view+json": {
       "model_id": "8d58d32ce7914b4eb5b0af8d7de1e434",
       "version_major": 2,
       "version_minor": 0
      },
      "text/plain": [
       "IntRangeSlider(value=(23, 255), description='Saturation', layout=Layout(width='80%'), max=255)"
      ]
     },
     "metadata": {},
     "output_type": "display_data"
    },
    {
     "data": {
      "application/vnd.jupyter.widget-view+json": {
       "model_id": "eb84670e4674402daf25562d7aeb0557",
       "version_major": 2,
       "version_minor": 0
      },
      "text/plain": [
       "IntRangeSlider(value=(0, 255), description='Value', layout=Layout(width='80%'), max=255)"
      ]
     },
     "metadata": {},
     "output_type": "display_data"
    },
    {
     "data": {
      "application/vnd.jupyter.widget-view+json": {
       "model_id": "c75d302a9522423e81448a3596e7d730",
       "version_major": 2,
       "version_minor": 0
      },
      "text/plain": [
       "IntSlider(value=100, description='x1', layout=Layout(width='80%'), max=1280)"
      ]
     },
     "metadata": {},
     "output_type": "display_data"
    },
    {
     "data": {
      "application/vnd.jupyter.widget-view+json": {
       "model_id": "dd76a8e6274b49ce97ced5c905fbf55b",
       "version_major": 2,
       "version_minor": 0
      },
      "text/plain": [
       "IntSlider(value=100, description='y1', layout=Layout(width='80%'), max=960)"
      ]
     },
     "metadata": {},
     "output_type": "display_data"
    },
    {
     "data": {
      "application/vnd.jupyter.widget-view+json": {
       "model_id": "cf777189b07045dfbc53a27799ceee67",
       "version_major": 2,
       "version_minor": 0
      },
      "text/plain": [
       "IntSlider(value=300, description='w', layout=Layout(width='80%'), max=1280)"
      ]
     },
     "metadata": {},
     "output_type": "display_data"
    },
    {
     "data": {
      "application/vnd.jupyter.widget-view+json": {
       "model_id": "c266203e338b49748c5f55892bbc93be",
       "version_major": 2,
       "version_minor": 0
      },
      "text/plain": [
       "IntSlider(value=300, description='h', layout=Layout(width='80%'), max=960)"
      ]
     },
     "metadata": {},
     "output_type": "display_data"
    }
   ],
   "source": [
    "cap = cv2.VideoCapture(0)\n",
    "display_handle=display(None, display_id=True)\n",
    "\n",
    "tmp = mp.Value('i', 0)\n",
    "contours_size = mp.Value('i', 0)\n",
    "len_contours = mp.Value('i', 0)\n",
    "\n",
    "frame_memory = SharedMemory(name='FrameMemory', create=True, size=width_img*height_img*3)\n",
    "contours_memory = SharedMemory(name='ContoursMemory', create=True, size=4096)\n",
    "\n",
    "p1 = mp.Process(target=t2.my_process, args=(tmp, width_img, height_img, len_contours, contours_size,), daemon=True)\n",
    "p1.start()\n",
    "\n",
    "stopButton = widgets.ToggleButton(description='Stop', disabled=False)\n",
    "\n",
    "def preprocess(fr):\n",
    "    mask = cv2.cvtColor(fr, cv2.COLOR_BGR2GRAY)\n",
    "    mask = cv2.GaussianBlur(mask, (5,5), 2)\n",
    "    mask = cv2.Canny(mask, 30, 255, apertureSize=5)\n",
    "    return mask\n",
    "\n",
    "def contours(fr_m, fr):\n",
    "    biggest = np.array([])\n",
    "    max_area = 0\n",
    "    contours, hierarchy = cv2.findContours(fr_m, cv2.RETR_EXTERNAL, cv2.CHAIN_APPROX_SIMPLE)\n",
    "    for cnt in contours:\n",
    "        area = cv2.contourArea(cnt)\n",
    "        if area > 100_000:\n",
    "            epsilon = 0.1 * cv2.arcLength(cnt, True)\n",
    "            approx = cv2.approxPolyDP(cnt, epsilon, True)\n",
    "            cv2.drawContours(fr, cnt, -1, (0,255,0), 5)\n",
    "            if area > max_area and len(approx) == 4:\n",
    "                biggest = approx\n",
    "                max_area = area\n",
    "    return biggest\n",
    "\n",
    "def reorder(my_points):\n",
    "    my_points = my_points.reshape((4,2))\n",
    "    my_points_new = np.zeros((4,1,2), np.int32)\n",
    "    add = my_points.sum(1)\n",
    "\n",
    "    my_points_new[0] = my_points[np.argmin(add)]\n",
    "    my_points_new[3] = my_points[np.argmax(add)]\n",
    "\n",
    "    diff = np.diff(my_points, axis=1)\n",
    "\n",
    "    my_points_new[1] = my_points[np.argmin(diff)]\n",
    "    my_points_new[2] = my_points[np.argmax(diff)]\n",
    "\n",
    "    return my_points_new\n",
    "\n",
    "def get_warp(img, approx):\n",
    "    biggest = reorder(approx)\n",
    "\n",
    "    pts1 = np.float32(biggest)\n",
    "    pts2 = np.float32([[0, 0], [width_img, 0], [0, height_img], [width_img, height_img]])\n",
    "    matrix = cv2.getPerspectiveTransform(pts1, pts2)\n",
    "    img_output = cv2.warpPerspective(img, matrix, (width_img, height_img))\n",
    "    img_cropped = cv2.resize(img_output, (width_img, height_img))\n",
    "    image_grayworld = (img_cropped * (img_cropped.mean() / img_cropped.mean(axis=(0, 1)))).astype(np.uint8)\n",
    "    return image_grayworld\n",
    "\n",
    "# CONTOURS TRAIN\n",
    "# def text_detection(img, contours_data):\n",
    "#     tensor = np.empty((1,4))\n",
    "#     for contour in contours_data[:,:]:\n",
    "#         x, y, w, h = contour[0], contour[2], contour[1], contour[3]\n",
    "#         cv2.rectangle(img, (x, y), (w, h), (255, 255, 0), 6)\n",
    "#         tensor = np.append(tensor, [[x, y, w, h]], axis=0)\n",
    "#     if len_contours.value > 1:\n",
    "#         if len(l2) < 2010:   \n",
    "#             l2.append((tensor[1:,:].astype(int), 'Karta Polaka (BACK)'))\n",
    "#         else:\n",
    "#             print(len(l2))\n",
    "\n",
    "# CONTOURS CHECK\n",
    "def text_detection(fr, img, contours_data):\n",
    "    if len_contours.value == 0:\n",
    "        st = 'detecting...'\n",
    "        color = (0, 0, 255)\n",
    "        ind = -1\n",
    "    else:\n",
    "        color = (0, 255, 0)\n",
    "        temp = np.empty((1,4))\n",
    "        for contour in contours_data[:,:]:\n",
    "            x, y, w, h = contour[0], contour[2], contour[1], contour[3]\n",
    "            # cv2.rectangle(img, (x, y), (w, h), (255, 255, 0), 6)\n",
    "            if temp.shape[0] < 50: # 50 pr2[2]\n",
    "                temp = np.append(temp, [[x, y, w, h]], axis=0)\n",
    "                \n",
    "        t = temp[1:,:].astype(int)\n",
    "        t = np.pad(t, [(0, 50 - t.shape[0]),(0, 0)], mode='constant').T.reshape(1, -1) # 50 pr2[2]\n",
    "        ind = clf.predict(t).argmax(1)[0]\n",
    "        st = df['Name'][df['ID'] == ind].iloc[0]\n",
    "    cv2.putText(fr, st, (7, 70), font, 3, color, 7, cv2.LINE_AA)\n",
    "    return ind\n",
    "\n",
    "def filters_online(fr, hue, sat, val):\n",
    "    lower = np.array([hue.value[0], sat.value[0], val.value[0]])\n",
    "    upper = np.array([hue.value[1], sat.value[1], val.value[1]])\n",
    "    mask = cv2.cvtColor(fr, cv2.COLOR_RGB2HSV)\n",
    "    mask = cv2.inRange(mask, lower, upper)\n",
    "    return mask\n",
    "\n",
    "def filters_predict(fr, ind, df):\n",
    "    l = df['HSV'][df['ID'] == ind].iloc[0]\n",
    "    lower = np.array([179, 0, 0])\n",
    "    upper = np.array([179, 0, 0])\n",
    "    mask = cv2.inRange(fr, lower, upper)\n",
    "\n",
    "    for i in l:\n",
    "        lower = np.array([i[0], i[2], i[4]])\n",
    "        upper = np.array([i[1], i[3], i[5]])\n",
    "        m = cv2.cvtColor(fr, cv2.COLOR_RGB2HSV)\n",
    "        m = cv2.inRange(m, lower, upper)\n",
    "        mask = cv2.addWeighted(mask,1,m,1,0)\n",
    "    return mask\n",
    "\n",
    "def watmark_online(img, x1, y1, w, h):\n",
    "    cv2.rectangle(img, (x1.value, y1.value), (x1.value+w.value, y1.value+h.value), (255, 0, 0), 10)\n",
    "\n",
    "def watermark_rect(img, ind, df):\n",
    "    l = df['Watermark_contour'][df['ID'] == ind].iloc[0]\n",
    "    for i in l:\n",
    "        cv2.rectangle(img, (i[0], i[1]), (i[0]+i[2], i[1]+i[3]), (255, 0, 0), 10)\n",
    "\n",
    "# WATERMARKS TRAIN\n",
    "# def watermark_train(img, ind, df):\n",
    "#     if len(n) < 2000:\n",
    "#         if ind != -1:\n",
    "#             l = df['Watermark_contour'][df['ID'] == ind].iloc[0]\n",
    "#             for j, i in enumerate(l):\n",
    "#                 crop_img = img[i[1]:i[1]+i[3], i[0]:i[0]+i[2]]\n",
    "#                 resized = cv2.resize(crop_img, (256, 256), interpolation = cv2.INTER_AREA)\n",
    "#                 n.append((resized, df['ID'][df['ID'] == ind].iloc[0] * 10 + j))\n",
    "#     else:\n",
    "#         close()\n",
    "#         display_handle.update(None)\n",
    "\n",
    "# WATERMARKS CHECK\n",
    "def watermark_check(img, ind, df):\n",
    "    if ind != -1:\n",
    "        l = df['Watermark_contour'][df['ID'] == ind].iloc[0]\n",
    "        for j, i in enumerate(l):\n",
    "            crop_img = img[i[1]:i[1]+i[3], i[0]:i[0]+i[2]]\n",
    "            resized = cv2.resize(crop_img, (128,128), interpolation = cv2.INTER_AREA)\n",
    "            x = np.reshape(resized, (1,1,128,128))\n",
    "            x = torch.tensor(x / 255).float()\n",
    "            prediction = model(x)\n",
    "            print(torch.softmax(prediction, dim=1))\n",
    "\n",
    "def close():\n",
    "    frame_memory.close()\n",
    "    frame_memory.unlink()\n",
    "    contours_memory.close()\n",
    "    contours_memory.unlink()\n",
    "    p1.terminate()\n",
    "    cap.release()\n",
    "\n",
    "def view(button, hue, sat, val, x1, y1, w, h,):\n",
    "    frame_data = np.ndarray((height_img,width_img,3), dtype=np.uint8, buffer=frame_memory.buf)\n",
    "    contours_data = np.ndarray((1,4), dtype=np.int32, buffer=contours_memory.buf)\n",
    "    \n",
    "    while True:\n",
    "        _, frame = cap.read()\n",
    "\n",
    "        frame_masked = preprocess(frame)\n",
    "        frame_contours = contours(frame_masked, frame)\n",
    "        \n",
    "        if frame_contours.size != 0:\n",
    "            img_warped = get_warp(frame, frame_contours)\n",
    "            contours_size.value = 1\n",
    "            \n",
    "            if tmp.value == 1:\n",
    "                frame_data[:,:,:] = img_warped[:,:,:]\n",
    "                contours_data = np.ndarray((len_contours.value,4), dtype=np.int32, buffer=contours_memory.buf)\n",
    "                tmp.value = 0\n",
    "\n",
    "            frame_detect = text_detection(frame, img_warped, contours_data)\n",
    "            # filt_online = filters_online(img_warped, hue, sat, val)\n",
    "            filt_predict = filters_predict(img_warped, frame_detect, df)\n",
    "            # watmark_online(filt_online, x1, y1, w, h)\n",
    "            watermark_rect(filt_predict, frame_detect, df)\n",
    "            # watermark_check(filt_predict, frame_detect, df)\n",
    "            # watermark_train(filt_predict, frame_detect, df)\n",
    "        \n",
    "        else:\n",
    "            img_warped = frame.copy()\n",
    "            # filt_online = frame.copy()\n",
    "            filt_predict = frame.copy()\n",
    "    \n",
    "            len_contours.value = 0\n",
    "            frame_data[:,:,:] = img_warped[0,0,0]\n",
    "\n",
    "        img_stack = cvzone.stackImages([\n",
    "            frame,\n",
    "            # img_warped,\n",
    "            # filt_online,\n",
    "            filt_predict,\n",
    "        ], 2, 1)\n",
    "\n",
    "        _, frame = cv2.imencode('.jpeg', img_stack) \n",
    "        display_handle.update(Image(data=frame.tobytes()))\n",
    "        if stopButton.value==True:\n",
    "            close()\n",
    "            display_handle.update(None)\n",
    "\n",
    "display(stopButton, hue, sat, val, x1, y1, w, h,)\n",
    "thread = threading.Thread(target=view, args=(stopButton, hue, sat, val, x1, y1, w, h,))\n",
    "thread.start()"
   ]
  },
  {
   "cell_type": "code",
   "execution_count": 3,
   "id": "cb486672-cc01-492b-aa22-2b7b7753378b",
   "metadata": {},
   "outputs": [
    {
     "data": {
      "text/html": [
       "<div>\n",
       "<style scoped>\n",
       "    .dataframe tbody tr th:only-of-type {\n",
       "        vertical-align: middle;\n",
       "    }\n",
       "\n",
       "    .dataframe tbody tr th {\n",
       "        vertical-align: top;\n",
       "    }\n",
       "\n",
       "    .dataframe thead th {\n",
       "        text-align: right;\n",
       "    }\n",
       "</style>\n",
       "<table border=\"1\" class=\"dataframe\">\n",
       "  <thead>\n",
       "    <tr style=\"text-align: right;\">\n",
       "      <th></th>\n",
       "      <th>Name</th>\n",
       "      <th>HSV</th>\n",
       "      <th>ID</th>\n",
       "      <th>Path</th>\n",
       "      <th>Watermark_contour</th>\n",
       "    </tr>\n",
       "  </thead>\n",
       "  <tbody>\n",
       "    <tr>\n",
       "      <th>0</th>\n",
       "      <td>None</td>\n",
       "      <td>[]</td>\n",
       "      <td>-1</td>\n",
       "      <td>None</td>\n",
       "      <td>[[0, 0, 0, 0]]</td>\n",
       "    </tr>\n",
       "    <tr>\n",
       "      <th>1</th>\n",
       "      <td>Karta Polaka (FRONT)</td>\n",
       "      <td>[[0, 179, 160, 255, 0, 255]]</td>\n",
       "      <td>0</td>\n",
       "      <td>None</td>\n",
       "      <td>[[5, 5, 220, 295]]</td>\n",
       "    </tr>\n",
       "    <tr>\n",
       "      <th>2</th>\n",
       "      <td>Karta Polaka (BACK)</td>\n",
       "      <td>[[0, 179, 65, 255, 0, 255], [0, 65, 23, 255, 0...</td>\n",
       "      <td>1</td>\n",
       "      <td>None</td>\n",
       "      <td>[[320, 5, 670, 500], [1085, 30, 180, 220]]</td>\n",
       "    </tr>\n",
       "    <tr>\n",
       "      <th>3</th>\n",
       "      <td>Driver License (FRONT)</td>\n",
       "      <td>[[0, 179, 100, 255, 0, 255]]</td>\n",
       "      <td>2</td>\n",
       "      <td>None</td>\n",
       "      <td>[[1050, 20, 210, 170], [10, 770, 470, 160]]</td>\n",
       "    </tr>\n",
       "    <tr>\n",
       "      <th>4</th>\n",
       "      <td>Driver License (BACK)</td>\n",
       "      <td>[]</td>\n",
       "      <td>3</td>\n",
       "      <td>None</td>\n",
       "      <td>[]</td>\n",
       "    </tr>\n",
       "    <tr>\n",
       "      <th>5</th>\n",
       "      <td>Poland ID (2021)</td>\n",
       "      <td>[[0, 255, 175, 255, 95, 235], [87, 115, 39, 77...</td>\n",
       "      <td>4</td>\n",
       "      <td>id/11.jpg</td>\n",
       "      <td>[]</td>\n",
       "    </tr>\n",
       "    <tr>\n",
       "      <th>6</th>\n",
       "      <td>Czech ID (2023)</td>\n",
       "      <td>[[0, 10, 140, 255, 90, 255]]</td>\n",
       "      <td>5</td>\n",
       "      <td>id/12.jpg</td>\n",
       "      <td>[]</td>\n",
       "    </tr>\n",
       "    <tr>\n",
       "      <th>7</th>\n",
       "      <td>Austia ID (2021)</td>\n",
       "      <td>[[0, 10, 195, 255, 80, 150]]</td>\n",
       "      <td>6</td>\n",
       "      <td>id/13.jpg</td>\n",
       "      <td>[]</td>\n",
       "    </tr>\n",
       "    <tr>\n",
       "      <th>8</th>\n",
       "      <td>Germany ID (2022)</td>\n",
       "      <td>[[0, 45, 135, 210, 85, 150], [70, 90, 50, 255,...</td>\n",
       "      <td>7</td>\n",
       "      <td>id/14.jpeg</td>\n",
       "      <td>[]</td>\n",
       "    </tr>\n",
       "  </tbody>\n",
       "</table>\n",
       "</div>"
      ],
      "text/plain": [
       "                     Name                                                HSV  \\\n",
       "0                    None                                                 []   \n",
       "1    Karta Polaka (FRONT)                       [[0, 179, 160, 255, 0, 255]]   \n",
       "2     Karta Polaka (BACK)  [[0, 179, 65, 255, 0, 255], [0, 65, 23, 255, 0...   \n",
       "3  Driver License (FRONT)                       [[0, 179, 100, 255, 0, 255]]   \n",
       "4   Driver License (BACK)                                                 []   \n",
       "5        Poland ID (2021)  [[0, 255, 175, 255, 95, 235], [87, 115, 39, 77...   \n",
       "6         Czech ID (2023)                       [[0, 10, 140, 255, 90, 255]]   \n",
       "7        Austia ID (2021)                       [[0, 10, 195, 255, 80, 150]]   \n",
       "8       Germany ID (2022)  [[0, 45, 135, 210, 85, 150], [70, 90, 50, 255,...   \n",
       "\n",
       "   ID        Path                            Watermark_contour  \n",
       "0  -1        None                               [[0, 0, 0, 0]]  \n",
       "1   0        None                           [[5, 5, 220, 295]]  \n",
       "2   1        None   [[320, 5, 670, 500], [1085, 30, 180, 220]]  \n",
       "3   2        None  [[1050, 20, 210, 170], [10, 770, 470, 160]]  \n",
       "4   3        None                                           []  \n",
       "5   4   id/11.jpg                                           []  \n",
       "6   5   id/12.jpg                                           []  \n",
       "7   6   id/13.jpg                                           []  \n",
       "8   7  id/14.jpeg                                           []  "
      ]
     },
     "execution_count": 3,
     "metadata": {},
     "output_type": "execute_result"
    }
   ],
   "source": [
    "# df = pd.DataFrame({'Name': None, 'HSV': [[[179,179,0,0,0,0]]], 'ID': -1, 'Path': None, 'Watermark_contour': [[[0,0,0,0]]]}, index=[0])\n",
    "df = pd.DataFrame({'Name': None, 'HSV': [[]], 'ID': -1, 'Path': None, 'Watermark_contour': [[[0,0,0,0]]]}, index=[0])\n",
    "\n",
    "df.loc[len(df.index)] = ['Karta Polaka (FRONT)', [[0,179,160,255,0,255]], 0, None, [[5,5,220,295]]]\n",
    "df.loc[len(df.index)] = ['Karta Polaka (BACK)', [[0,179,65,255,0,255], [0,65,23,255,0,255]], 1, None, [[320,5,670,500],[1085,30,180,220]]]\n",
    "df.loc[len(df.index)] = ['Driver License (FRONT)', [[0,179,100,255,0,255]], 2, None, [[1050,20,210,170],[10,770,470,160]]]\n",
    "df.loc[len(df.index)] = ['Driver License (BACK)', [], 3, None, []]\n",
    "df.loc[len(df.index)] = ['Poland ID (2021)', [[0,255,175,255,95,235],[87,115,39,77,128,207]], 4, 'id/11.jpg',[]]\n",
    "df.loc[len(df.index)] = ['Czech ID (2023)', [[0,10,140,255,90,255]], 5, 'id/12.jpg',[]]\n",
    "df.loc[len(df.index)] = ['Austia ID (2021)', [[0,10,195,255,80,150]], 6,'id/13.jpg',[]]\n",
    "df.loc[len(df.index)] = ['Germany ID (2022)', [[0,45,135,210,85,150],[70,90,50,255,100,255]], 7,'id/14.jpeg',[]]\n",
    "df"
   ]
  },
  {
   "cell_type": "code",
   "execution_count": 58,
   "id": "552175c4-c2f2-49d9-94fd-b4cb16b56b32",
   "metadata": {},
   "outputs": [
    {
     "data": {
      "text/plain": [
       "False"
      ]
     },
     "execution_count": 58,
     "metadata": {},
     "output_type": "execute_result"
    }
   ],
   "source": [
    "p1.terminate()\n",
    "frame_memory.close()\n",
    "contours_memory.close()\n",
    "frame_memory.unlink()\n",
    "contours_memory.unlink()\n",
    "cap.release()\n",
    "time.sleep(0.1)\n",
    "p1.is_alive()"
   ]
  },
  {
   "cell_type": "code",
   "execution_count": 6,
   "id": "de83e672-c3d1-4469-982f-9b20e815676d",
   "metadata": {},
   "outputs": [
    {
     "name": "stdout",
     "output_type": "stream",
     "text": [
      "False False\n"
     ]
    }
   ],
   "source": [
    "print(thread.is_alive(), p1.is_alive())"
   ]
  },
  {
   "cell_type": "code",
   "execution_count": null,
   "id": "a45e58d3-75d5-4bc5-9eca-1ed7aa3f9f1e",
   "metadata": {},
   "outputs": [],
   "source": []
  },
  {
   "cell_type": "code",
   "execution_count": 110,
   "id": "3c8d9aa1-315b-437e-aec2-57e874911a2b",
   "metadata": {},
   "outputs": [],
   "source": [
    "n = []"
   ]
  },
  {
   "cell_type": "code",
   "execution_count": 141,
   "id": "cbc6f71c-7794-4c15-bcb5-2d385734dc83",
   "metadata": {},
   "outputs": [
    {
     "data": {
      "text/plain": [
       "2000"
      ]
     },
     "execution_count": 141,
     "metadata": {},
     "output_type": "execute_result"
    }
   ],
   "source": [
    "len(n)"
   ]
  },
  {
   "cell_type": "code",
   "execution_count": 136,
   "id": "e2417dec-a101-4024-8a78-cb24612eacb0",
   "metadata": {},
   "outputs": [],
   "source": [
    "del n[1400:1600]"
   ]
  },
  {
   "cell_type": "code",
   "execution_count": 156,
   "id": "53edd7ad-452b-4400-a3c8-c640275a71a5",
   "metadata": {},
   "outputs": [
    {
     "data": {
      "text/plain": [
       "(array([[255, 255, 255, ..., 255, 255, 255],\n",
       "        [255, 255, 255, ..., 255, 255, 255],\n",
       "        [255, 255, 255, ..., 255, 255, 255],\n",
       "        ...,\n",
       "        [255, 255, 255, ..., 255, 255, 255],\n",
       "        [255, 255, 255, ..., 255, 255, 255],\n",
       "        [255, 255, 255, ..., 255, 255, 255]], dtype=uint8),\n",
       " 20)"
      ]
     },
     "execution_count": 156,
     "metadata": {},
     "output_type": "execute_result"
    }
   ],
   "source": [
    "n[1900]"
   ]
  },
  {
   "cell_type": "code",
   "execution_count": 158,
   "id": "5c0c8a3e-cd46-43fd-ae61-653aec6a5673",
   "metadata": {},
   "outputs": [
    {
     "data": {
      "text/plain": [
       "<matplotlib.image.AxesImage at 0x2ae947e90>"
      ]
     },
     "execution_count": 158,
     "metadata": {},
     "output_type": "execute_result"
    },
    {
     "data": {
      "image/png": "[encoded data removed]",
      "text/plain": [
       "<Figure size 640x480 with 1 Axes>"
      ]
     },
     "metadata": {},
     "output_type": "display_data"
    }
   ],
   "source": [
    "plt.imshow(n[101][0])"
   ]
  },
  {
   "cell_type": "code",
   "execution_count": 146,
   "id": "bb9c5a21-fa67-4bac-a8ff-ddf115a9af4d",
   "metadata": {},
   "outputs": [],
   "source": [
    "with open('n_watermarks.pkl', 'wb') as f:\n",
    "    pickle.dump(n, f)"
   ]
  },
  {
   "cell_type": "code",
   "execution_count": null,
   "id": "cd9a3141-64d7-4402-9e00-5a581caf1ee1",
   "metadata": {},
   "outputs": [],
   "source": []
  },
  {
   "cell_type": "code",
   "execution_count": 24,
   "id": "ca61ad7e-80c9-4b69-9d5a-91ff0060a4f2",
   "metadata": {},
   "outputs": [],
   "source": [
    "l2 = []"
   ]
  },
  {
   "cell_type": "code",
   "execution_count": 27,
   "id": "6a4c2fa0-364d-45a3-9dcf-f979142bf498",
   "metadata": {},
   "outputs": [],
   "source": [
    "del l2[:10]"
   ]
  },
  {
   "cell_type": "code",
   "execution_count": 30,
   "id": "69984230-8e9d-4bb7-aba9-e3769e2471f9",
   "metadata": {},
   "outputs": [],
   "source": [
    "del l2[500:510]"
   ]
  },
  {
   "cell_type": "code",
   "execution_count": 33,
   "id": "bd298ee5-a84f-4b4e-8f24-35e52839a733",
   "metadata": {},
   "outputs": [],
   "source": [
    "del l2[1000:1010]"
   ]
  },
  {
   "cell_type": "code",
   "execution_count": 36,
   "id": "607f88ff-d979-4381-86b5-84f277e7de60",
   "metadata": {},
   "outputs": [],
   "source": [
    "del l2[1500:1510]"
   ]
  },
  {
   "cell_type": "code",
   "execution_count": 37,
   "id": "63477057-b400-43e0-8860-4b5d08a50509",
   "metadata": {},
   "outputs": [
    {
     "data": {
      "text/plain": [
       "2000"
      ]
     },
     "execution_count": 37,
     "metadata": {},
     "output_type": "execute_result"
    }
   ],
   "source": [
    "len(l2)"
   ]
  },
  {
   "cell_type": "code",
   "execution_count": null,
   "id": "70d71b70-64d1-48e0-9781-2067041788b4",
   "metadata": {},
   "outputs": [],
   "source": []
  },
  {
   "cell_type": "code",
   "execution_count": 38,
   "id": "1ed9bb91-a827-4efb-8191-741bb268417d",
   "metadata": {},
   "outputs": [],
   "source": [
    "def data_prepare(itemlist, target_dict):\n",
    "    s = 0\n",
    "    len_dict = len(target_dict)\n",
    "    \n",
    "    for i in itemlist:\n",
    "        if s < i[0].shape[0]:\n",
    "            s = i[0].shape[0]\n",
    "            \n",
    "    ret_input = np.empty((1, s * 4))\n",
    "    ret_target = np.empty((1, len_dict))\n",
    "    eye = np.eye(len_dict)\n",
    "            \n",
    "    for i in itemlist:\n",
    "        t = np.pad(i[0], [(0, s - i[0].shape[0]),(0, 0)], mode='constant')\n",
    "        \n",
    "        ret_input = np.vstack((ret_input, t.T.reshape(1, -1)))\n",
    "        ret_target = np.vstack((ret_target , eye[target_dict[i[1]]]))\n",
    "        \n",
    "    return ret_input[1:,:], ret_target[1:,:], s"
   ]
  },
  {
   "cell_type": "code",
   "execution_count": 40,
   "id": "62c60907-13c7-4e7c-bca2-676be1458500",
   "metadata": {},
   "outputs": [],
   "source": [
    "pr = data_prepare(l2, target_dict)"
   ]
  },
  {
   "cell_type": "code",
   "execution_count": 41,
   "id": "a6be528f-b9ae-4e65-bce9-ca58ee5549fe",
   "metadata": {},
   "outputs": [
    {
     "data": {
      "text/plain": [
       "50"
      ]
     },
     "execution_count": 41,
     "metadata": {},
     "output_type": "execute_result"
    }
   ],
   "source": [
    "pr[2]"
   ]
  },
  {
   "cell_type": "code",
   "execution_count": 44,
   "id": "c22fe870-e524-4314-b4aa-3d2f72451884",
   "metadata": {},
   "outputs": [],
   "source": [
    "X_train, X_test, y_train, y_test = train_test_split(pr[0], pr[1], test_size=0.2)"
   ]
  },
  {
   "cell_type": "code",
   "execution_count": 45,
   "id": "37b3bae1-ff45-44f2-b1c2-cd997716f280",
   "metadata": {},
   "outputs": [
    {
     "data": {
      "text/plain": [
       "((1600, 200), (400, 200), (1600, 4), (400, 4))"
      ]
     },
     "execution_count": 45,
     "metadata": {},
     "output_type": "execute_result"
    }
   ],
   "source": [
    "X_train.shape, X_test.shape, y_train.shape, y_test.shape"
   ]
  },
  {
   "cell_type": "code",
   "execution_count": 46,
   "id": "3d0f67a4-e876-4719-9136-6bc73dbc21c9",
   "metadata": {},
   "outputs": [
    {
     "data": {
      "text/html": [
       "<style>#sk-container-id-1 {color: black;}#sk-container-id-1 pre{padding: 0;}#sk-container-id-1 div.sk-toggleable {background-color: white;}#sk-container-id-1 label.sk-toggleable__label {cursor: pointer;display: block;width: 100%;margin-bottom: 0;padding: 0.3em;box-sizing: border-box;text-align: center;}#sk-container-id-1 label.sk-toggleable__label-arrow:before {content: \"▸\";float: left;margin-right: 0.25em;color: #696969;}#sk-container-id-1 label.sk-toggleable__label-arrow:hover:before {color: black;}#sk-container-id-1 div.sk-estimator:hover label.sk-toggleable__label-arrow:before {color: black;}#sk-container-id-1 div.sk-toggleable__content {max-height: 0;max-width: 0;overflow: hidden;text-align: left;background-color: #f0f8ff;}#sk-container-id-1 div.sk-toggleable__content pre {margin: 0.2em;color: black;border-radius: 0.25em;background-color: #f0f8ff;}#sk-container-id-1 input.sk-toggleable__control:checked~div.sk-toggleable__content {max-height: 200px;max-width: 100%;overflow: auto;}#sk-container-id-1 input.sk-toggleable__control:checked~label.sk-toggleable__label-arrow:before {content: \"▾\";}#sk-container-id-1 div.sk-estimator input.sk-toggleable__control:checked~label.sk-toggleable__label {background-color: #d4ebff;}#sk-container-id-1 div.sk-label input.sk-toggleable__control:checked~label.sk-toggleable__label {background-color: #d4ebff;}#sk-container-id-1 input.sk-hidden--visually {border: 0;clip: rect(1px 1px 1px 1px);clip: rect(1px, 1px, 1px, 1px);height: 1px;margin: -1px;overflow: hidden;padding: 0;position: absolute;width: 1px;}#sk-container-id-1 div.sk-estimator {font-family: monospace;background-color: #f0f8ff;border: 1px dotted black;border-radius: 0.25em;box-sizing: border-box;margin-bottom: 0.5em;}#sk-container-id-1 div.sk-estimator:hover {background-color: #d4ebff;}#sk-container-id-1 div.sk-parallel-item::after {content: \"\";width: 100%;border-bottom: 1px solid gray;flex-grow: 1;}#sk-container-id-1 div.sk-label:hover label.sk-toggleable__label {background-color: #d4ebff;}#sk-container-id-1 div.sk-serial::before {content: \"\";position: absolute;border-left: 1px solid gray;box-sizing: border-box;top: 0;bottom: 0;left: 50%;z-index: 0;}#sk-container-id-1 div.sk-serial {display: flex;flex-direction: column;align-items: center;background-color: white;padding-right: 0.2em;padding-left: 0.2em;position: relative;}#sk-container-id-1 div.sk-item {position: relative;z-index: 1;}#sk-container-id-1 div.sk-parallel {display: flex;align-items: stretch;justify-content: center;background-color: white;position: relative;}#sk-container-id-1 div.sk-item::before, #sk-container-id-1 div.sk-parallel-item::before {content: \"\";position: absolute;border-left: 1px solid gray;box-sizing: border-box;top: 0;bottom: 0;left: 50%;z-index: -1;}#sk-container-id-1 div.sk-parallel-item {display: flex;flex-direction: column;z-index: 1;position: relative;background-color: white;}#sk-container-id-1 div.sk-parallel-item:first-child::after {align-self: flex-end;width: 50%;}#sk-container-id-1 div.sk-parallel-item:last-child::after {align-self: flex-start;width: 50%;}#sk-container-id-1 div.sk-parallel-item:only-child::after {width: 0;}#sk-container-id-1 div.sk-dashed-wrapped {border: 1px dashed gray;margin: 0 0.4em 0.5em 0.4em;box-sizing: border-box;padding-bottom: 0.4em;background-color: white;}#sk-container-id-1 div.sk-label label {font-family: monospace;font-weight: bold;display: inline-block;line-height: 1.2em;}#sk-container-id-1 div.sk-label-container {text-align: center;}#sk-container-id-1 div.sk-container {/* jupyter's `normalize.less` sets `[hidden] { display: none; }` but bootstrap.min.css set `[hidden] { display: none !important; }` so we also need the `!important` here to be able to override the default hidden behavior on the sphinx rendered scikit-learn.org. See: https://github.com/scikit-learn/scikit-learn/issues/21755 */display: inline-block !important;position: relative;}#sk-container-id-1 div.sk-text-repr-fallback {display: none;}</style><div id=\"sk-container-id-1\" class=\"sk-top-container\"><div class=\"sk-text-repr-fallback\"><pre>ExtraTreesClassifier(random_state=0)</pre><b>In a Jupyter environment, please rerun this cell to show the HTML representation or trust the notebook. <br />On GitHub, the HTML representation is unable to render, please try loading this page with nbviewer.org.</b></div><div class=\"sk-container\" hidden><div class=\"sk-item\"><div class=\"sk-estimator sk-toggleable\"><input class=\"sk-toggleable__control sk-hidden--visually\" id=\"sk-estimator-id-1\" type=\"checkbox\" checked><label for=\"sk-estimator-id-1\" class=\"sk-toggleable__label sk-toggleable__label-arrow\">ExtraTreesClassifier</label><div class=\"sk-toggleable__content\"><pre>ExtraTreesClassifier(random_state=0)</pre></div></div></div></div></div>"
      ],
      "text/plain": [
       "ExtraTreesClassifier(random_state=0)"
      ]
     },
     "execution_count": 46,
     "metadata": {},
     "output_type": "execute_result"
    }
   ],
   "source": [
    "from sklearn.ensemble import ExtraTreesClassifier\n",
    "from sklearn.metrics import accuracy_score\n",
    "\n",
    "clf = ExtraTreesClassifier(n_estimators=100, random_state=0)\n",
    "clf.fit(X_train, y_train)"
   ]
  },
  {
   "cell_type": "code",
   "execution_count": 47,
   "id": "b2b3a512-9d28-40fc-afca-6d814eb63aad",
   "metadata": {},
   "outputs": [
    {
     "data": {
      "text/plain": [
       "(1.0, 1.0)"
      ]
     },
     "execution_count": 47,
     "metadata": {},
     "output_type": "execute_result"
    }
   ],
   "source": [
    "accuracy_score(y_train, clf.predict(X_train)), accuracy_score(y_test, clf.predict(X_test))"
   ]
  },
  {
   "cell_type": "code",
   "execution_count": 50,
   "id": "a4a63a44-5aa1-49e0-9ec4-a35a1e5417b0",
   "metadata": {},
   "outputs": [],
   "source": [
    "with open('model_0.pkl', 'wb') as file:  \n",
    "    pickle.dump(clf, file)"
   ]
  },
  {
   "cell_type": "code",
   "execution_count": null,
   "id": "8cbae64e-91b5-48ac-82af-89f18d878864",
   "metadata": {},
   "outputs": [],
   "source": []
  },
  {
   "cell_type": "code",
   "execution_count": 42,
   "id": "780c9f3e-fac3-4270-910c-b3eb14130f4e",
   "metadata": {},
   "outputs": [],
   "source": [
    "with open('n_watermarks.pkl', 'rb') as f:\n",
    "    n = pickle.load(f)"
   ]
  },
  {
   "cell_type": "code",
   "execution_count": 45,
   "id": "9347f49f-caad-49f3-99e8-b523939ca80e",
   "metadata": {},
   "outputs": [],
   "source": [
    "df2 = pd.DataFrame({'a': [s[0] for s in n], 'b': [s[1] for s in n]})\n",
    "ohe = OneHotEncoder()\n",
    "a = ohe.fit_transform(df2[['b']]).toarray()\n",
    "df2['ohe_class'] = a.tolist()\n",
    "df3 = df2.drop('b', axis=1)"
   ]
  },
  {
   "cell_type": "code",
   "execution_count": 49,
   "id": "b67ae34b-1d69-48f9-8902-356a8d782509",
   "metadata": {},
   "outputs": [],
   "source": [
    "class MyModel(nn.Module):\n",
    "    def __init__(self):\n",
    "        super().__init__()\n",
    "        self.network = nn.Sequential(\n",
    "            \n",
    "            nn.Conv2d(1, 16, kernel_size = 5, padding = 1),\n",
    "            nn.ReLU(),\n",
    "            nn.MaxPool2d(2,2),\n",
    "            nn.Conv2d(16, 32, kernel_size = 5, stride = 1, padding = 1),\n",
    "            nn.ReLU(),\n",
    "            nn.MaxPool2d(2,2),\n",
    "            \n",
    "            nn.Flatten(),\n",
    "            nn.Dropout(0.5),\n",
    "            nn.Linear(28800,1024),\n",
    "            nn.ReLU(),\n",
    "            nn.Dropout(0.5),\n",
    "            nn.Linear(1024, 5)\n",
    "        )\n",
    "    \n",
    "    def forward(self, xb):\n",
    "        return self.network(xb)"
   ]
  },
  {
   "cell_type": "code",
   "execution_count": 50,
   "id": "e6866881-69d2-4938-97d9-085f0a6afa29",
   "metadata": {},
   "outputs": [
    {
     "data": {
      "text/plain": [
       "MyModel(\n",
       "  (network): Sequential(\n",
       "    (0): Conv2d(1, 16, kernel_size=(5, 5), stride=(1, 1), padding=(1, 1))\n",
       "    (1): ReLU()\n",
       "    (2): MaxPool2d(kernel_size=2, stride=2, padding=0, dilation=1, ceil_mode=False)\n",
       "    (3): Conv2d(16, 32, kernel_size=(5, 5), stride=(1, 1), padding=(1, 1))\n",
       "    (4): ReLU()\n",
       "    (5): MaxPool2d(kernel_size=2, stride=2, padding=0, dilation=1, ceil_mode=False)\n",
       "    (6): Flatten(start_dim=1, end_dim=-1)\n",
       "    (7): Dropout(p=0.5, inplace=False)\n",
       "    (8): Linear(in_features=28800, out_features=1024, bias=True)\n",
       "    (9): ReLU()\n",
       "    (10): Dropout(p=0.5, inplace=False)\n",
       "    (11): Linear(in_features=1024, out_features=5, bias=True)\n",
       "  )\n",
       ")"
      ]
     },
     "execution_count": 50,
     "metadata": {},
     "output_type": "execute_result"
    }
   ],
   "source": [
    "model = MyModel()\n",
    "model.load_state_dict(torch.load('model_watermarks.pth', map_location=torch.device('cpu')))\n",
    "model.eval()"
   ]
  },
  {
   "cell_type": "code",
   "execution_count": 60,
   "id": "73eadba9-d443-41b2-91df-2f91ac9de7b9",
   "metadata": {},
   "outputs": [
    {
     "data": {
      "text/plain": [
       "tensor([[1.0000e+00, 8.2453e-14, 5.5440e-11, 7.8053e-14, 3.1114e-16]],\n",
       "       grad_fn=<SoftmaxBackward0>)"
      ]
     },
     "execution_count": 60,
     "metadata": {},
     "output_type": "execute_result"
    }
   ],
   "source": [
    "x = df3['a'].iloc[0]\n",
    "y = df3['ohe_class'].iloc[0]\n",
    "\n",
    "x = cv2.resize(x, (128,128))\n",
    "x = np.reshape(x, (1,1,128,128))\n",
    "x = torch.tensor(x / 255).float()\n",
    "\n",
    "y = np.reshape(y, (1,5))\n",
    "y = torch.tensor(y).float()\n",
    "\n",
    "prediction = model(x)\n",
    "torch.softmax(prediction, dim=1)"
   ]
  },
  {
   "cell_type": "code",
   "execution_count": null,
   "id": "4e338d0f-c254-474d-9018-0a54b4257e5c",
   "metadata": {},
   "outputs": [],
   "source": []
  },
  {
   "cell_type": "code",
   "execution_count": 53,
   "id": "42110856-79f9-47c6-ac3d-9db78631d449",
   "metadata": {},
   "outputs": [
    {
     "data": {
      "text/html": [
       "<div>\n",
       "<style scoped>\n",
       "    .dataframe tbody tr th:only-of-type {\n",
       "        vertical-align: middle;\n",
       "    }\n",
       "\n",
       "    .dataframe tbody tr th {\n",
       "        vertical-align: top;\n",
       "    }\n",
       "\n",
       "    .dataframe thead th {\n",
       "        text-align: right;\n",
       "    }\n",
       "</style>\n",
       "<table border=\"1\" class=\"dataframe\">\n",
       "  <thead>\n",
       "    <tr style=\"text-align: right;\">\n",
       "      <th></th>\n",
       "      <th>a</th>\n",
       "      <th>b</th>\n",
       "      <th>ohe_class</th>\n",
       "    </tr>\n",
       "  </thead>\n",
       "  <tbody>\n",
       "    <tr>\n",
       "      <th>0</th>\n",
       "      <td>[[255, 255, 255, 255, 255, 255, 255, 255, 255,...</td>\n",
       "      <td>0</td>\n",
       "      <td>[1.0, 0.0, 0.0, 0.0, 0.0]</td>\n",
       "    </tr>\n",
       "    <tr>\n",
       "      <th>1</th>\n",
       "      <td>[[255, 255, 255, 255, 255, 255, 255, 255, 255,...</td>\n",
       "      <td>0</td>\n",
       "      <td>[1.0, 0.0, 0.0, 0.0, 0.0]</td>\n",
       "    </tr>\n",
       "    <tr>\n",
       "      <th>2</th>\n",
       "      <td>[[255, 255, 255, 255, 255, 255, 255, 255, 255,...</td>\n",
       "      <td>0</td>\n",
       "      <td>[1.0, 0.0, 0.0, 0.0, 0.0]</td>\n",
       "    </tr>\n",
       "    <tr>\n",
       "      <th>3</th>\n",
       "      <td>[[255, 255, 255, 255, 255, 255, 255, 255, 255,...</td>\n",
       "      <td>0</td>\n",
       "      <td>[1.0, 0.0, 0.0, 0.0, 0.0]</td>\n",
       "    </tr>\n",
       "    <tr>\n",
       "      <th>4</th>\n",
       "      <td>[[255, 255, 255, 255, 255, 255, 255, 255, 255,...</td>\n",
       "      <td>0</td>\n",
       "      <td>[1.0, 0.0, 0.0, 0.0, 0.0]</td>\n",
       "    </tr>\n",
       "    <tr>\n",
       "      <th>...</th>\n",
       "      <td>...</td>\n",
       "      <td>...</td>\n",
       "      <td>...</td>\n",
       "    </tr>\n",
       "    <tr>\n",
       "      <th>1995</th>\n",
       "      <td>[[255, 255, 255, 255, 255, 255, 255, 255, 255,...</td>\n",
       "      <td>21</td>\n",
       "      <td>[0.0, 0.0, 0.0, 0.0, 1.0]</td>\n",
       "    </tr>\n",
       "    <tr>\n",
       "      <th>1996</th>\n",
       "      <td>[[255, 255, 255, 255, 255, 255, 255, 255, 255,...</td>\n",
       "      <td>20</td>\n",
       "      <td>[0.0, 0.0, 0.0, 1.0, 0.0]</td>\n",
       "    </tr>\n",
       "    <tr>\n",
       "      <th>1997</th>\n",
       "      <td>[[255, 255, 255, 255, 255, 255, 255, 255, 255,...</td>\n",
       "      <td>21</td>\n",
       "      <td>[0.0, 0.0, 0.0, 0.0, 1.0]</td>\n",
       "    </tr>\n",
       "    <tr>\n",
       "      <th>1998</th>\n",
       "      <td>[[255, 255, 255, 255, 255, 255, 255, 255, 255,...</td>\n",
       "      <td>20</td>\n",
       "      <td>[0.0, 0.0, 0.0, 1.0, 0.0]</td>\n",
       "    </tr>\n",
       "    <tr>\n",
       "      <th>1999</th>\n",
       "      <td>[[255, 255, 255, 255, 255, 255, 255, 255, 255,...</td>\n",
       "      <td>21</td>\n",
       "      <td>[0.0, 0.0, 0.0, 0.0, 1.0]</td>\n",
       "    </tr>\n",
       "  </tbody>\n",
       "</table>\n",
       "<p>2000 rows × 3 columns</p>\n",
       "</div>"
      ],
      "text/plain": [
       "                                                      a   b  \\\n",
       "0     [[255, 255, 255, 255, 255, 255, 255, 255, 255,...   0   \n",
       "1     [[255, 255, 255, 255, 255, 255, 255, 255, 255,...   0   \n",
       "2     [[255, 255, 255, 255, 255, 255, 255, 255, 255,...   0   \n",
       "3     [[255, 255, 255, 255, 255, 255, 255, 255, 255,...   0   \n",
       "4     [[255, 255, 255, 255, 255, 255, 255, 255, 255,...   0   \n",
       "...                                                 ...  ..   \n",
       "1995  [[255, 255, 255, 255, 255, 255, 255, 255, 255,...  21   \n",
       "1996  [[255, 255, 255, 255, 255, 255, 255, 255, 255,...  20   \n",
       "1997  [[255, 255, 255, 255, 255, 255, 255, 255, 255,...  21   \n",
       "1998  [[255, 255, 255, 255, 255, 255, 255, 255, 255,...  20   \n",
       "1999  [[255, 255, 255, 255, 255, 255, 255, 255, 255,...  21   \n",
       "\n",
       "                      ohe_class  \n",
       "0     [1.0, 0.0, 0.0, 0.0, 0.0]  \n",
       "1     [1.0, 0.0, 0.0, 0.0, 0.0]  \n",
       "2     [1.0, 0.0, 0.0, 0.0, 0.0]  \n",
       "3     [1.0, 0.0, 0.0, 0.0, 0.0]  \n",
       "4     [1.0, 0.0, 0.0, 0.0, 0.0]  \n",
       "...                         ...  \n",
       "1995  [0.0, 0.0, 0.0, 0.0, 1.0]  \n",
       "1996  [0.0, 0.0, 0.0, 1.0, 0.0]  \n",
       "1997  [0.0, 0.0, 0.0, 0.0, 1.0]  \n",
       "1998  [0.0, 0.0, 0.0, 1.0, 0.0]  \n",
       "1999  [0.0, 0.0, 0.0, 0.0, 1.0]  \n",
       "\n",
       "[2000 rows x 3 columns]"
      ]
     },
     "execution_count": 53,
     "metadata": {},
     "output_type": "execute_result"
    }
   ],
   "source": [
    "df2"
   ]
  },
  {
   "cell_type": "code",
   "execution_count": 24,
   "id": "e242a7e8-baec-4d35-baf2-74c9b81c52a1",
   "metadata": {},
   "outputs": [],
   "source": [
    "b = ohe.fit(df[['b']])"
   ]
  },
  {
   "cell_type": "code",
   "execution_count": 32,
   "id": "ce03ab2d-bba8-488f-8346-75c90f0275be",
   "metadata": {},
   "outputs": [],
   "source": [
    "c = {'ss': [[20]]}"
   ]
  },
  {
   "cell_type": "code",
   "execution_count": 34,
   "id": "9625a367-6ce4-428e-bf43-d74d51a93c99",
   "metadata": {},
   "outputs": [
    {
     "name": "stderr",
     "output_type": "stream",
     "text": [
      "/Library/Frameworks/Python.framework/Versions/3.11/lib/python3.11/site-packages/sklearn/base.py:465: UserWarning: X does not have valid feature names, but OneHotEncoder was fitted with feature names\n",
      "  warnings.warn(\n"
     ]
    },
    {
     "data": {
      "text/plain": [
       "array([[0., 0., 0., 1., 0.]])"
      ]
     },
     "execution_count": 34,
     "metadata": {},
     "output_type": "execute_result"
    }
   ],
   "source": [
    "b.transform(c['ss']).toarray()"
   ]
  }
 ],
 "metadata": {
  "kernelspec": {
   "display_name": "Python 3 (ipykernel)",
   "language": "python",
   "name": "python3"
  },
  "language_info": {
   "codemirror_mode": {
    "name": "ipython",
    "version": 3
   },
   "file_extension": ".py",
   "mimetype": "text/x-python",
   "name": "python",
   "nbconvert_exporter": "python",
   "pygments_lexer": "ipython3",
   "version": "3.11.3"
  }
 },
 "nbformat": 4,
 "nbformat_minor": 5
}
