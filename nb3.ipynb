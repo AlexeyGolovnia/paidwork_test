{
 "cells": [
  {
   "cell_type": "code",
   "execution_count": 1,
   "id": "7800d7fb-4eda-4361-a089-3ef262873500",
   "metadata": {},
   "outputs": [],
   "source": [
    "import cv2\n",
    "import numpy as np\n",
    "from IPython.display import display, Image\n",
    "import ipywidgets as widgets\n",
    "from ipywidgets import interact, Layout\n",
    "import cvzone\n",
    "import time\n",
    "import threading\n",
    "import multiprocessing as mp\n",
    "from multiprocessing.shared_memory import SharedMemory\n",
    "from sklearn.model_selection import train_test_split\n",
    "import t2\n",
    "import pickle"
   ]
  },
  {
   "cell_type": "code",
   "execution_count": 2,
   "id": "a98a7f5b-07e7-4d14-9d62-917e882dfb26",
   "metadata": {},
   "outputs": [],
   "source": [
    "with open('model_0.pkl', 'rb') as file:  \n",
    "    clf = pickle.load(file)"
   ]
  },
  {
   "cell_type": "code",
   "execution_count": 3,
   "id": "d16681ae-5eea-4cfb-a8d3-0f61cb6dbac7",
   "metadata": {},
   "outputs": [],
   "source": [
    "target_dict = {\n",
    "    'Karta Polaka (FRONT)': 0,\n",
    "    'Karta Polaka (BACK)': 1,\n",
    "    'Driver License (FRONT)': 2,\n",
    "    'Driver License (BACK)': 3,\n",
    "              }"
   ]
  },
  {
   "cell_type": "code",
   "execution_count": 4,
   "id": "3de9987f-800b-424c-8ce5-99b972708e83",
   "metadata": {},
   "outputs": [
    {
     "data": {
      "text/plain": [
       "None"
      ]
     },
     "metadata": {},
     "output_type": "display_data"
    },
    {
     "data": {
      "application/vnd.jupyter.widget-view+json": {
       "model_id": "74b800fe297b47c5a6a7a72ad4dd8cf9",
       "version_major": 2,
       "version_minor": 0
      },
      "text/plain": [
       "ToggleButton(value=False, description='Stop')"
      ]
     },
     "metadata": {},
     "output_type": "display_data"
    }
   ],
   "source": [
    "font = cv2.FONT_HERSHEY_SIMPLEX\n",
    "width_img = 1280\n",
    "height_img = 960\n",
    "\n",
    "cap = cv2.VideoCapture(0)\n",
    "display_handle=display(None, display_id=True)\n",
    "# s = cap.read()[1].shape\n",
    "\n",
    "tmp = mp.Value('i', 0)\n",
    "contours_size = mp.Value('i', 0)\n",
    "len_contours = mp.Value('i', 0)\n",
    "# frame_bytes = s[0] * s[1] * s[2]\n",
    "\n",
    "frame_memory = SharedMemory(name='FrameMemory', create=True, size=width_img*height_img*3)\n",
    "contours_memory = SharedMemory(name='ContoursMemory', create=True, size=4096)\n",
    "\n",
    "p1 = mp.Process(target=t2.my_process, args=(tmp, width_img, height_img, len_contours, contours_size,), daemon=True)\n",
    "p1.start()\n",
    "\n",
    "stopButton = widgets.ToggleButton(description='Stop', disabled=False)\n",
    "\n",
    "def preprocess(fr):\n",
    "    mask = cv2.cvtColor(fr, cv2.COLOR_BGR2GRAY)\n",
    "    mask = cv2.GaussianBlur(mask, (5,5), 2)\n",
    "    mask = cv2.Canny(mask, 30, 255, apertureSize=5)\n",
    "    return mask\n",
    "\n",
    "def contours(fr_m, fr):\n",
    "    biggest = np.array([])\n",
    "    max_area = 0\n",
    "    contours, hierarchy = cv2.findContours(fr_m, cv2.RETR_EXTERNAL, cv2.CHAIN_APPROX_SIMPLE)\n",
    "    for cnt in contours:\n",
    "        area = cv2.contourArea(cnt)\n",
    "        if area > 100_000:\n",
    "            epsilon = 0.1 * cv2.arcLength(cnt, True)\n",
    "            approx = cv2.approxPolyDP(cnt, epsilon, True)\n",
    "            cv2.drawContours(fr, cnt, -1, (0,255,0), 5)\n",
    "            if area > max_area and len(approx) == 4:\n",
    "                biggest = approx\n",
    "                max_area = area\n",
    "    return biggest\n",
    "\n",
    "def reorder(my_points):\n",
    "    my_points = my_points.reshape((4,2))\n",
    "    my_points_new = np.zeros((4,1,2), np.int32)\n",
    "    add = my_points.sum(1)\n",
    "\n",
    "    my_points_new[0] = my_points[np.argmin(add)]\n",
    "    my_points_new[3] = my_points[np.argmax(add)]\n",
    "\n",
    "    diff = np.diff(my_points, axis=1)\n",
    "\n",
    "    my_points_new[1] = my_points[np.argmin(diff)]\n",
    "    my_points_new[2] = my_points[np.argmax(diff)]\n",
    "\n",
    "    return my_points_new\n",
    "\n",
    "def get_warp(img, approx):\n",
    "    biggest = reorder(approx)\n",
    "\n",
    "    pts1 = np.float32(biggest)\n",
    "    pts2 = np.float32([[0, 0], [width_img, 0], [0, height_img], [width_img, height_img]])\n",
    "    matrix = cv2.getPerspectiveTransform(pts1, pts2)\n",
    "    img_output = cv2.warpPerspective(img, matrix, (width_img, height_img))\n",
    "    img_cropped = cv2.resize(img_output, (width_img, height_img))\n",
    "    # image_grayworld = ((img_cropped * (img_cropped.mean() / img_cropped.mean(axis=(0, 1)))).clip(0, 255).astype(int)).astype(np.uint8)\n",
    "    image_grayworld = (img_cropped * (img_cropped.mean() / img_cropped.mean(axis=(0, 1)))).clip(0, 255).astype(np.uint8)\n",
    "    return image_grayworld\n",
    "\n",
    "# CONTOURS TRAIN\n",
    "# def text_detection(img, contours_data):\n",
    "#     tensor = np.empty((1,4))\n",
    "#     for contour in contours_data[:,:]:\n",
    "#         x, y, w, h = contour[0], contour[2], contour[1], contour[3]\n",
    "#         cv2.rectangle(img, (x, y), (w, h), (255, 255, 0), 6)\n",
    "#         tensor = np.append(tensor, [[x, y, w, h]], axis=0)\n",
    "#     if len_contours.value > 1:\n",
    "#         if len(l2) < 2010:   \n",
    "#             l2.append((tensor[1:,:].astype(int), 'Karta Polaka (BACK)'))\n",
    "#         else:\n",
    "#             print(len(l2))\n",
    "\n",
    "# CONTOURS CHECK\n",
    "def text_detection(fr, img, contours_data):\n",
    "    \n",
    "    if len_contours.value == 0:\n",
    "        st = 'detecting...'\n",
    "        color = (0, 0, 255)\n",
    "    else:\n",
    "        color = (0, 255, 0)\n",
    "        temp = np.empty((1,4))\n",
    "        for contour in contours_data[:,:]:\n",
    "            x, y, w, h = contour[0], contour[2], contour[1], contour[3]\n",
    "            cv2.rectangle(img, (x, y), (w, h), (255, 255, 0), 6)\n",
    "            if temp.shape[0] < 50: # 50 pr2[2]\n",
    "                temp = np.append(temp, [[x, y, w, h]], axis=0)\n",
    "                \n",
    "        t = temp[1:,:].astype(int)\n",
    "        t = np.pad(t, [(0, 50 - t.shape[0]),(0, 0)], mode='constant').T.reshape(1, -1) # 50 pr2[2]\n",
    "        ind = clf.predict(t).argmax(1)[0]\n",
    "    \n",
    "    \n",
    "        st = list(target_dict.keys())[list(target_dict.values()).index(ind)]\n",
    "    cv2.putText(fr, st, (7, 70), font, 3, color, 7, cv2.LINE_AA)\n",
    "\n",
    "def close():\n",
    "    frame_memory.close()\n",
    "    frame_memory.unlink()\n",
    "    contours_memory.close()\n",
    "    contours_memory.unlink()\n",
    "    p1.terminate()\n",
    "    cap.release()\n",
    "\n",
    "def view(button,):\n",
    "    frame_data = np.ndarray((height_img,width_img,3), dtype=np.uint8, buffer=frame_memory.buf)\n",
    "    contours_data = np.ndarray((1,4), dtype=np.int32, buffer=contours_memory.buf)\n",
    "    \n",
    "    while True:\n",
    "        _, frame = cap.read()\n",
    "\n",
    "        frame_masked = preprocess(frame)\n",
    "        frame_contours = contours(frame_masked, frame)\n",
    "\n",
    "        # contours_size.value = frame_contours.size\n",
    "\n",
    "        # try:\n",
    "        #     print(contours_data[0], len_contours.value)\n",
    "        # except:\n",
    "        #     ()\n",
    "        # time.sleep(3)\n",
    "\n",
    "        \n",
    "        if frame_contours.size != 0:\n",
    "            img_warped = get_warp(frame, frame_contours)\n",
    "            frame_data[:,:,:] = img_warped[:,:,:] # перенести под tmp.value==1\n",
    "            contours_size.value = 1\n",
    "            \n",
    "            if tmp.value == 1:\n",
    "                contours_data = np.ndarray((len_contours.value,4), dtype=np.int32, buffer=contours_memory.buf)\n",
    "                tmp.value = 0\n",
    "\n",
    "            frame_detect = text_detection(frame, img_warped, contours_data)\n",
    "        \n",
    "        else:\n",
    "            img_warped = frame.copy()\n",
    "            frame_data[:,:,:] = img_warped[0,0,0] # может убрать?\n",
    "            len_contours.value = 0\n",
    "\n",
    "        img_stack = cvzone.stackImages([\n",
    "            frame,\n",
    "            img_warped,\n",
    "        ], 3, 1)\n",
    "\n",
    "        _, frame = cv2.imencode('.jpeg', img_stack) \n",
    "        display_handle.update(Image(data=frame.tobytes()))\n",
    "        if stopButton.value==True:\n",
    "            close()\n",
    "            display_handle.update(None)\n",
    "\n",
    "display(stopButton,)\n",
    "thread = threading.Thread(target=view, args=(stopButton,))\n",
    "thread.start()"
   ]
  },
  {
   "cell_type": "code",
   "execution_count": 67,
   "id": "552175c4-c2f2-49d9-94fd-b4cb16b56b32",
   "metadata": {},
   "outputs": [
    {
     "data": {
      "text/plain": [
       "False"
      ]
     },
     "execution_count": 67,
     "metadata": {},
     "output_type": "execute_result"
    }
   ],
   "source": [
    "p1.terminate()\n",
    "frame_memory.close()\n",
    "contours_memory.close()\n",
    "frame_memory.unlink()\n",
    "contours_memory.unlink()\n",
    "cap.release()\n",
    "time.sleep(0.1)\n",
    "p1.is_alive()"
   ]
  },
  {
   "cell_type": "code",
   "execution_count": 48,
   "id": "de83e672-c3d1-4469-982f-9b20e815676d",
   "metadata": {},
   "outputs": [
    {
     "name": "stdout",
     "output_type": "stream",
     "text": [
      "False True\n"
     ]
    }
   ],
   "source": [
    "print(thread.is_alive(), p1.is_alive())"
   ]
  },
  {
   "cell_type": "code",
   "execution_count": null,
   "id": "650c7492-e19d-4f68-adab-593def28e15d",
   "metadata": {},
   "outputs": [],
   "source": []
  },
  {
   "cell_type": "code",
   "execution_count": 24,
   "id": "ca61ad7e-80c9-4b69-9d5a-91ff0060a4f2",
   "metadata": {},
   "outputs": [],
   "source": [
    "l2 = []"
   ]
  },
  {
   "cell_type": "code",
   "execution_count": 27,
   "id": "6a4c2fa0-364d-45a3-9dcf-f979142bf498",
   "metadata": {},
   "outputs": [],
   "source": [
    "del l2[:10]"
   ]
  },
  {
   "cell_type": "code",
   "execution_count": 30,
   "id": "69984230-8e9d-4bb7-aba9-e3769e2471f9",
   "metadata": {},
   "outputs": [],
   "source": [
    "del l2[500:510]"
   ]
  },
  {
   "cell_type": "code",
   "execution_count": 33,
   "id": "bd298ee5-a84f-4b4e-8f24-35e52839a733",
   "metadata": {},
   "outputs": [],
   "source": [
    "del l2[1000:1010]"
   ]
  },
  {
   "cell_type": "code",
   "execution_count": 36,
   "id": "607f88ff-d979-4381-86b5-84f277e7de60",
   "metadata": {},
   "outputs": [],
   "source": [
    "del l2[1500:1510]"
   ]
  },
  {
   "cell_type": "code",
   "execution_count": 37,
   "id": "63477057-b400-43e0-8860-4b5d08a50509",
   "metadata": {},
   "outputs": [
    {
     "data": {
      "text/plain": [
       "2000"
      ]
     },
     "execution_count": 37,
     "metadata": {},
     "output_type": "execute_result"
    }
   ],
   "source": [
    "len(l2)"
   ]
  },
  {
   "cell_type": "code",
   "execution_count": null,
   "id": "70d71b70-64d1-48e0-9781-2067041788b4",
   "metadata": {},
   "outputs": [],
   "source": []
  },
  {
   "cell_type": "code",
   "execution_count": 38,
   "id": "1ed9bb91-a827-4efb-8191-741bb268417d",
   "metadata": {},
   "outputs": [],
   "source": [
    "def data_prepare(itemlist, target_dict):\n",
    "    s = 0\n",
    "    len_dict = len(target_dict)\n",
    "    \n",
    "    for i in itemlist:\n",
    "        if s < i[0].shape[0]:\n",
    "            s = i[0].shape[0]\n",
    "            \n",
    "    ret_input = np.empty((1, s * 4))\n",
    "    ret_target = np.empty((1, len_dict))\n",
    "    eye = np.eye(len_dict)\n",
    "            \n",
    "    for i in itemlist:\n",
    "        t = np.pad(i[0], [(0, s - i[0].shape[0]),(0, 0)], mode='constant')\n",
    "        \n",
    "        ret_input = np.vstack((ret_input, t.T.reshape(1, -1)))\n",
    "        ret_target = np.vstack((ret_target , eye[target_dict[i[1]]]))\n",
    "        \n",
    "    return ret_input[1:,:], ret_target[1:,:], s"
   ]
  },
  {
   "cell_type": "code",
   "execution_count": 40,
   "id": "62c60907-13c7-4e7c-bca2-676be1458500",
   "metadata": {},
   "outputs": [],
   "source": [
    "pr = data_prepare(l2, target_dict)"
   ]
  },
  {
   "cell_type": "code",
   "execution_count": 41,
   "id": "a6be528f-b9ae-4e65-bce9-ca58ee5549fe",
   "metadata": {},
   "outputs": [
    {
     "data": {
      "text/plain": [
       "50"
      ]
     },
     "execution_count": 41,
     "metadata": {},
     "output_type": "execute_result"
    }
   ],
   "source": [
    "pr[2]"
   ]
  },
  {
   "cell_type": "code",
   "execution_count": 44,
   "id": "c22fe870-e524-4314-b4aa-3d2f72451884",
   "metadata": {},
   "outputs": [],
   "source": [
    "X_train, X_test, y_train, y_test = train_test_split(pr[0], pr[1], test_size=0.2)"
   ]
  },
  {
   "cell_type": "code",
   "execution_count": 45,
   "id": "37b3bae1-ff45-44f2-b1c2-cd997716f280",
   "metadata": {},
   "outputs": [
    {
     "data": {
      "text/plain": [
       "((1600, 200), (400, 200), (1600, 4), (400, 4))"
      ]
     },
     "execution_count": 45,
     "metadata": {},
     "output_type": "execute_result"
    }
   ],
   "source": [
    "X_train.shape, X_test.shape, y_train.shape, y_test.shape"
   ]
  },
  {
   "cell_type": "code",
   "execution_count": 46,
   "id": "3d0f67a4-e876-4719-9136-6bc73dbc21c9",
   "metadata": {},
   "outputs": [
    {
     "data": {
      "text/html": [
       "<style>#sk-container-id-1 {color: black;}#sk-container-id-1 pre{padding: 0;}#sk-container-id-1 div.sk-toggleable {background-color: white;}#sk-container-id-1 label.sk-toggleable__label {cursor: pointer;display: block;width: 100%;margin-bottom: 0;padding: 0.3em;box-sizing: border-box;text-align: center;}#sk-container-id-1 label.sk-toggleable__label-arrow:before {content: \"▸\";float: left;margin-right: 0.25em;color: #696969;}#sk-container-id-1 label.sk-toggleable__label-arrow:hover:before {color: black;}#sk-container-id-1 div.sk-estimator:hover label.sk-toggleable__label-arrow:before {color: black;}#sk-container-id-1 div.sk-toggleable__content {max-height: 0;max-width: 0;overflow: hidden;text-align: left;background-color: #f0f8ff;}#sk-container-id-1 div.sk-toggleable__content pre {margin: 0.2em;color: black;border-radius: 0.25em;background-color: #f0f8ff;}#sk-container-id-1 input.sk-toggleable__control:checked~div.sk-toggleable__content {max-height: 200px;max-width: 100%;overflow: auto;}#sk-container-id-1 input.sk-toggleable__control:checked~label.sk-toggleable__label-arrow:before {content: \"▾\";}#sk-container-id-1 div.sk-estimator input.sk-toggleable__control:checked~label.sk-toggleable__label {background-color: #d4ebff;}#sk-container-id-1 div.sk-label input.sk-toggleable__control:checked~label.sk-toggleable__label {background-color: #d4ebff;}#sk-container-id-1 input.sk-hidden--visually {border: 0;clip: rect(1px 1px 1px 1px);clip: rect(1px, 1px, 1px, 1px);height: 1px;margin: -1px;overflow: hidden;padding: 0;position: absolute;width: 1px;}#sk-container-id-1 div.sk-estimator {font-family: monospace;background-color: #f0f8ff;border: 1px dotted black;border-radius: 0.25em;box-sizing: border-box;margin-bottom: 0.5em;}#sk-container-id-1 div.sk-estimator:hover {background-color: #d4ebff;}#sk-container-id-1 div.sk-parallel-item::after {content: \"\";width: 100%;border-bottom: 1px solid gray;flex-grow: 1;}#sk-container-id-1 div.sk-label:hover label.sk-toggleable__label {background-color: #d4ebff;}#sk-container-id-1 div.sk-serial::before {content: \"\";position: absolute;border-left: 1px solid gray;box-sizing: border-box;top: 0;bottom: 0;left: 50%;z-index: 0;}#sk-container-id-1 div.sk-serial {display: flex;flex-direction: column;align-items: center;background-color: white;padding-right: 0.2em;padding-left: 0.2em;position: relative;}#sk-container-id-1 div.sk-item {position: relative;z-index: 1;}#sk-container-id-1 div.sk-parallel {display: flex;align-items: stretch;justify-content: center;background-color: white;position: relative;}#sk-container-id-1 div.sk-item::before, #sk-container-id-1 div.sk-parallel-item::before {content: \"\";position: absolute;border-left: 1px solid gray;box-sizing: border-box;top: 0;bottom: 0;left: 50%;z-index: -1;}#sk-container-id-1 div.sk-parallel-item {display: flex;flex-direction: column;z-index: 1;position: relative;background-color: white;}#sk-container-id-1 div.sk-parallel-item:first-child::after {align-self: flex-end;width: 50%;}#sk-container-id-1 div.sk-parallel-item:last-child::after {align-self: flex-start;width: 50%;}#sk-container-id-1 div.sk-parallel-item:only-child::after {width: 0;}#sk-container-id-1 div.sk-dashed-wrapped {border: 1px dashed gray;margin: 0 0.4em 0.5em 0.4em;box-sizing: border-box;padding-bottom: 0.4em;background-color: white;}#sk-container-id-1 div.sk-label label {font-family: monospace;font-weight: bold;display: inline-block;line-height: 1.2em;}#sk-container-id-1 div.sk-label-container {text-align: center;}#sk-container-id-1 div.sk-container {/* jupyter's `normalize.less` sets `[hidden] { display: none; }` but bootstrap.min.css set `[hidden] { display: none !important; }` so we also need the `!important` here to be able to override the default hidden behavior on the sphinx rendered scikit-learn.org. See: https://github.com/scikit-learn/scikit-learn/issues/21755 */display: inline-block !important;position: relative;}#sk-container-id-1 div.sk-text-repr-fallback {display: none;}</style><div id=\"sk-container-id-1\" class=\"sk-top-container\"><div class=\"sk-text-repr-fallback\"><pre>ExtraTreesClassifier(random_state=0)</pre><b>In a Jupyter environment, please rerun this cell to show the HTML representation or trust the notebook. <br />On GitHub, the HTML representation is unable to render, please try loading this page with nbviewer.org.</b></div><div class=\"sk-container\" hidden><div class=\"sk-item\"><div class=\"sk-estimator sk-toggleable\"><input class=\"sk-toggleable__control sk-hidden--visually\" id=\"sk-estimator-id-1\" type=\"checkbox\" checked><label for=\"sk-estimator-id-1\" class=\"sk-toggleable__label sk-toggleable__label-arrow\">ExtraTreesClassifier</label><div class=\"sk-toggleable__content\"><pre>ExtraTreesClassifier(random_state=0)</pre></div></div></div></div></div>"
      ],
      "text/plain": [
       "ExtraTreesClassifier(random_state=0)"
      ]
     },
     "execution_count": 46,
     "metadata": {},
     "output_type": "execute_result"
    }
   ],
   "source": [
    "from sklearn.ensemble import ExtraTreesClassifier\n",
    "from sklearn.metrics import accuracy_score\n",
    "\n",
    "clf = ExtraTreesClassifier(n_estimators=100, random_state=0)\n",
    "clf.fit(X_train, y_train)"
   ]
  },
  {
   "cell_type": "code",
   "execution_count": 47,
   "id": "b2b3a512-9d28-40fc-afca-6d814eb63aad",
   "metadata": {},
   "outputs": [
    {
     "data": {
      "text/plain": [
       "(1.0, 1.0)"
      ]
     },
     "execution_count": 47,
     "metadata": {},
     "output_type": "execute_result"
    }
   ],
   "source": [
    "accuracy_score(y_train, clf.predict(X_train)), accuracy_score(y_test, clf.predict(X_test))"
   ]
  },
  {
   "cell_type": "code",
   "execution_count": 50,
   "id": "a4a63a44-5aa1-49e0-9ec4-a35a1e5417b0",
   "metadata": {},
   "outputs": [],
   "source": [
    "with open('model_0.pkl', 'wb') as file:  \n",
    "    pickle.dump(clf, file)"
   ]
  },
  {
   "cell_type": "code",
   "execution_count": null,
   "id": "780c9f3e-fac3-4270-910c-b3eb14130f4e",
   "metadata": {},
   "outputs": [],
   "source": []
  }
 ],
 "metadata": {
  "kernelspec": {
   "display_name": "Python 3 (ipykernel)",
   "language": "python",
   "name": "python3"
  },
  "language_info": {
   "codemirror_mode": {
    "name": "ipython",
    "version": 3
   },
   "file_extension": ".py",
   "mimetype": "text/x-python",
   "name": "python",
   "nbconvert_exporter": "python",
   "pygments_lexer": "ipython3",
   "version": "3.11.3"
  }
 },
 "nbformat": 4,
 "nbformat_minor": 5
}
