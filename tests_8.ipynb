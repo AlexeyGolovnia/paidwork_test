{
 "cells": [
  {
   "cell_type": "code",
   "execution_count": 1,
   "id": "9249cf38-9b74-46b3-8e54-48b22018e29d",
   "metadata": {},
   "outputs": [],
   "source": [
    "import matplotlib.pyplot as plt\n",
    "import cv2\n",
    "import numpy as np\n",
    "from IPython.display import display, Image\n",
    "import ipywidgets as widgets\n",
    "from ipywidgets import interact, Layout\n",
    "import threading\n",
    "import cvzone\n",
    "import time\n",
    "from sklearn.model_selection import train_test_split\n",
    "import pickle"
   ]
  },
  {
   "cell_type": "code",
   "execution_count": 2,
   "id": "8a949e7c-c539-45b3-9bd0-acc5c91e3ea0",
   "metadata": {},
   "outputs": [],
   "source": [
    "target_dict = {\n",
    "    'Karta Polaka (FRONT)': 0,\n",
    "    'Karta Polaka (BACK)': 1,\n",
    "    'Driver License (FRONT)': 2,\n",
    "    'Driver License (BACK)': 3,\n",
    "              }"
   ]
  },
  {
   "cell_type": "code",
   "execution_count": 3,
   "id": "3b4e5788-b08a-4e1a-9b66-8e88122cbb9e",
   "metadata": {},
   "outputs": [],
   "source": [
    "with open('model_0.pkl', 'rb') as file:  \n",
    "    clf3 = pickle.load(file)"
   ]
  },
  {
   "cell_type": "code",
   "execution_count": 38,
   "id": "3d0cbda1-95f5-4b6d-9913-1838afa7b8a7",
   "metadata": {},
   "outputs": [
    {
     "data": {
      "application/vnd.jupyter.widget-view+json": {
       "model_id": "3fb2a27ebaa64d74bbd1ec9674ad4ee1",
       "version_major": 2,
       "version_minor": 0
      },
      "text/plain": [
       "ToggleButton(value=False, description='Stop')"
      ]
     },
     "metadata": {},
     "output_type": "display_data"
    },
    {
     "data": {
      "application/vnd.jupyter.widget-view+json": {
       "model_id": "3314376a3bfa4c95aca0b309aa272318",
       "version_major": 2,
       "version_minor": 0
      },
      "text/plain": [
       "IntRangeSlider(value=(30, 255), description='Canny_threshold', layout=Layout(width='80%'), max=255)"
      ]
     },
     "metadata": {},
     "output_type": "display_data"
    },
    {
     "data": {
      "application/vnd.jupyter.widget-view+json": {
       "model_id": "8576a5c58134460d93ed2f72061d3f72",
       "version_major": 2,
       "version_minor": 0
      },
      "text/plain": [
       "IntRangeSlider(value=(7, 56), description='Hue', layout=Layout(width='80%'), max=255)"
      ]
     },
     "metadata": {},
     "output_type": "display_data"
    },
    {
     "data": {
      "application/vnd.jupyter.widget-view+json": {
       "model_id": "e90caef4c9e34dd1a625504adc82bc1c",
       "version_major": 2,
       "version_minor": 0
      },
      "text/plain": [
       "IntRangeSlider(value=(13, 69), description='Saturation', layout=Layout(width='80%'), max=255)"
      ]
     },
     "metadata": {},
     "output_type": "display_data"
    },
    {
     "data": {
      "application/vnd.jupyter.widget-view+json": {
       "model_id": "0edd23e91fc54b1ba20c504caf6028b3",
       "version_major": 2,
       "version_minor": 0
      },
      "text/plain": [
       "IntRangeSlider(value=(117, 255), description='Value', layout=Layout(width='80%'), max=255)"
      ]
     },
     "metadata": {},
     "output_type": "display_data"
    },
    {
     "data": {
      "text/plain": [
       "None"
      ]
     },
     "metadata": {},
     "output_type": "display_data"
    }
   ],
   "source": [
    "font = cv2.FONT_HERSHEY_SIMPLEX\n",
    "\n",
    "width_img = 1280\n",
    "height_img = 960\n",
    "\n",
    "stopButton = widgets.ToggleButton(description='Stop', disabled=False)\n",
    "\n",
    "val1 = widgets.IntRangeSlider(min=0, max=255, step=1, value=[30, 255], layout=Layout(width='80%'), description='Canny_threshold')\n",
    "val2 = widgets.IntRangeSlider(min=0, max=255, step=1, value=[180, 255], layout=Layout(width='80%'))\n",
    "val3 = widgets.RadioButtons(options=[True, False], description='L2Gradient', disabled=False)\n",
    "\n",
    "b0 = [80,140,170,255,80,255]\n",
    "b1_1 = [110,140,90,170,110,180]\n",
    "b1_2 = [15,55,5,25,175,200]\n",
    "b2 = [0,255,125,200,80,255]\n",
    "pl = [0,255,175,255,95,235]\n",
    "pl_2 = [87,115,39,77,128,207]\n",
    "\n",
    "a = b1.copy()\n",
    "hue = widgets.IntRangeSlider(min=0, max=255, step=1, value=[a[0], a[1]], layout=Layout(width='80%'), description='Hue')\n",
    "sat = widgets.IntRangeSlider(min=0, max=255, step=1, value=[a[2], a[3]], layout=Layout(width='80%'), description='Saturation')\n",
    "val = widgets.IntRangeSlider(min=0, max=255, step=1, value=[a[4], a[5]], layout=Layout(width='80%'), description='Value')\n",
    "\n",
    "def preprocess(fr, v1):\n",
    "    mask = cv2.cvtColor(fr, cv2.COLOR_BGR2GRAY)\n",
    "    mask = cv2.GaussianBlur(mask, (5,5), 2)\n",
    "    mask = cv2.Canny(mask, v1.value[0], v1.value[1], apertureSize=5)\n",
    "\t# mask = cv2.dilate(mask, np.ones((5,5)), iterations=2)\n",
    "    # mask = cv2.erode(mask, np.ones((5,5)), iterations=1)\n",
    "    return mask\n",
    "\n",
    "def contours(fr_m, fr):\n",
    "    biggest = np.array([])\n",
    "    max_area = 0\n",
    "    contours, hierarchy = cv2.findContours(fr_m, cv2.RETR_EXTERNAL, cv2.CHAIN_APPROX_SIMPLE)\n",
    "    for cnt in contours:\n",
    "        area = cv2.contourArea(cnt)\n",
    "        if area > 100_000:\n",
    "            epsilon = 0.1 * cv2.arcLength(cnt, True)\n",
    "            approx = cv2.approxPolyDP(cnt, epsilon, True)\n",
    "            cv2.drawContours(fr, cnt, -1, (0,255,0), 5)\n",
    "            if area > max_area and len(approx) == 4:\n",
    "                biggest = approx\n",
    "                max_area = area\n",
    "    return biggest\n",
    "\n",
    "def reorder(my_points):\n",
    "    my_points = my_points.reshape((4,2))\n",
    "    my_points_new = np.zeros((4,1,2), np.int32)\n",
    "    add = my_points.sum(1)\n",
    "\n",
    "    my_points_new[0] = my_points[np.argmin(add)]\n",
    "    my_points_new[3] = my_points[np.argmax(add)]\n",
    "\n",
    "    diff = np.diff(my_points, axis=1)\n",
    "\n",
    "    my_points_new[1] = my_points[np.argmin(diff)]\n",
    "    my_points_new[2] = my_points[np.argmax(diff)]\n",
    "\n",
    "    return my_points_new\n",
    "\n",
    "def get_warp(img, approx):\n",
    "    biggest = reorder(approx)\n",
    "\n",
    "    pts1 = np.float32(biggest)\n",
    "    pts2 = np.float32([[0, 0], [width_img, 0], [0, height_img], [width_img, height_img]])\n",
    "    matrix = cv2.getPerspectiveTransform(pts1, pts2)\n",
    "    img_output = cv2.warpPerspective(img, matrix, (width_img, height_img))\n",
    "    img_cropped = cv2.resize(img_output, (width_img, height_img))\n",
    "    return img_cropped\n",
    "\n",
    "# CONTOURS CHECK\n",
    "def text_detection(fr, img):\n",
    "    gray = cv2.cvtColor(img, cv2.COLOR_BGR2GRAY)\n",
    "    _, thresh = cv2.threshold(gray, 0, 255, cv2.THRESH_BINARY_INV + cv2.THRESH_OTSU)\n",
    "    contours, _ = cv2.findContours(thresh, cv2.RETR_EXTERNAL, cv2.CHAIN_APPROX_SIMPLE)\n",
    "    tmp = np.empty((1,4))\n",
    "    for contour in contours:\n",
    "        x, y, w, h = cv2.boundingRect(contour)\n",
    "        area = cv2.contourArea(contour)\n",
    "        if area > 100:\n",
    "            # cv2.rectangle(img, (x, y), (x + w, y + h), (0, 255, 0), 2)\n",
    "            if tmp.shape[0] < 146: # 146 pr2[2]\n",
    "                tmp = np.append(tmp, [[x, y, w, h]], axis=0)\n",
    "                \n",
    "    t = tmp[1:,:].astype(int)\n",
    "    t = np.pad(t, [(0, 146 - t.shape[0]),(0, 0)], mode='constant').T.reshape(1, -1) # 146 pr2[2]\n",
    "    ind = clf3.predict(t).argmax(1)[0]\n",
    "    st = list(target_dict.keys())[list(target_dict.values()).index(ind)]\n",
    "    cv2.putText(fr, st, (7, 70), font, 3, (0, 255, 0), 7, cv2.LINE_AA)\n",
    "    return ind\n",
    "\n",
    "def filters(fr, hue, sat, val):\n",
    "    lower = np.array([hue.value[0], sat.value[0], val.value[0]])\n",
    "    upper = np.array([hue.value[1], sat.value[1], val.value[1]])\n",
    "    mask = cv2.cvtColor(fr, cv2.COLOR_RGB2HSV)\n",
    "    mask = cv2.inRange(mask, lower, upper)\n",
    "    # cv2.putText(fr, ind, (7, 70), font, 3, (0, 255, 0), 7, cv2.LINE_AA)\n",
    "    return mask\n",
    "\n",
    "def foto(img, hue, sat, val):\n",
    "    # lower = np.array([hue.value[0], sat.value[0], val.value[0]])\n",
    "    # upper = np.array([hue.value[1], sat.value[1], val.value[1]])\n",
    "    # mask = cv2.cvtColor(img, cv2.COLOR_RGB2HSV)\n",
    "    # mask = cv2.inRange(mask, lower, upper)\n",
    "\n",
    "    pl_0 = [0,255,0,255,250,255]\n",
    "    pl_1 = [0,255,175,255,95,235]\n",
    "    pl_2 = [87,115,39,77,128,207]\n",
    "    pl_3 = [158,179,0,17,183,201]\n",
    "    # l = [pl_1,pl_2,pl_3]\n",
    "    l = [pl_1]\n",
    "\n",
    "    # mask = cv2.threshold(img, 0, 0, cv2.THRESH_BINARY)[1]\n",
    "    lower = np.array([0, 0, 255])\n",
    "    upper = np.array([255, 255, 255])\n",
    "    mask = cv2.inRange(img, lower, upper)\n",
    "\n",
    "    for i in l:\n",
    "        lower = np.array([i[0], i[2], i[4]])\n",
    "        upper = np.array([i[1], i[3], i[5]])\n",
    "        m = cv2.cvtColor(img, cv2.COLOR_RGB2HSV)\n",
    "        m = cv2.inRange(m, lower, upper)\n",
    "        mask = cv2.addWeighted(mask,1,m,1,0)\n",
    "        \n",
    "\n",
    "    # lower1 = np.array([pl_1[0], pl_1[2], pl_1[4]])\n",
    "    # upper1 = np.array([pl_1[1], pl_1[3], pl_1[5]])\n",
    "    # mask1 = cv2.cvtColor(img, cv2.COLOR_RGB2HSV)\n",
    "    # mask1 = cv2.inRange(mask1, lower1, upper1)\n",
    "\n",
    "    # lower2 = np.array([pl_2[0], pl_2[2], pl_2[4]])\n",
    "    # upper2 = np.array([pl_2[1], pl_2[3], pl_2[5]])\n",
    "    # mask2 = cv2.cvtColor(img, cv2.COLOR_RGB2HSV)\n",
    "    # mask2 = cv2.inRange(mask2, lower2, upper2)\n",
    "\n",
    "    # mask = cv2.addWeighted(mask1,1,mask2,1,0)\n",
    "    return mask\n",
    "    \n",
    "\n",
    "def view(button, val1, hue, sat, val):\n",
    "    cap = cv2.VideoCapture(0)\n",
    "    display_handle=display(None, display_id=True)\n",
    "\n",
    "    img = cv2.imread('id/11.jpg')\n",
    "\n",
    "    while True:\n",
    "        _, frame = cap.read()\n",
    "\n",
    "        frame_masked = preprocess(frame, val1)\n",
    "        frame_contours = contours(frame_masked, frame)\n",
    "\n",
    "        f = foto(img, hue, sat, val)\n",
    "\n",
    "        if frame_contours.size != 0:\n",
    "            img_warped = get_warp(frame, frame_contours)\n",
    "            frame_detect = text_detection(frame, img_warped)\n",
    "            filt = filters(img_warped, hue, sat, val)\n",
    "        else:\n",
    "            img_warped = frame.copy()\n",
    "            filt = frame.copy()\n",
    "        img_stack = cvzone.stackImages([\n",
    "            img,\n",
    "            f,\n",
    "            # frame,\n",
    "            # filt,\n",
    "            # img_warped,\n",
    "        ], 2, 1)\n",
    "\n",
    "        _, frame = cv2.imencode('.jpeg', img_stack) \n",
    "        display_handle.update(Image(data=frame.tobytes()))\n",
    "        if stopButton.value==True:\n",
    "            cap.release()\n",
    "            display_handle.update(None)\n",
    "\n",
    "display(stopButton, val1, hue, sat, val)\n",
    "thread = threading.Thread(target=view, args=(stopButton, val1, hue, sat, val))\n",
    "thread.start()"
   ]
  },
  {
   "cell_type": "code",
   "execution_count": null,
   "id": "39c6ebb4-907c-4569-8539-e2f2a5412692",
   "metadata": {},
   "outputs": [],
   "source": []
  },
  {
   "cell_type": "code",
   "execution_count": null,
   "id": "6da19647-e36c-4603-8c86-95762423e2aa",
   "metadata": {},
   "outputs": [],
   "source": []
  },
  {
   "cell_type": "code",
   "execution_count": null,
   "id": "babf2b6f-25d8-41ab-843f-661f0cbe91b0",
   "metadata": {},
   "outputs": [],
   "source": []
  },
  {
   "cell_type": "code",
   "execution_count": null,
   "id": "fd30cbd4-20ae-4a02-962d-acbd69affb3b",
   "metadata": {},
   "outputs": [],
   "source": []
  },
  {
   "cell_type": "code",
   "execution_count": null,
   "id": "257e75e0-293c-49e4-8a27-7d768bc5f8af",
   "metadata": {},
   "outputs": [],
   "source": []
  },
  {
   "cell_type": "code",
   "execution_count": null,
   "id": "9dcce675-f3f4-4120-bdfd-2cb447c461ff",
   "metadata": {},
   "outputs": [],
   "source": []
  },
  {
   "cell_type": "code",
   "execution_count": null,
   "id": "a9cc58e8-78c1-4f62-a6d4-e9b3b500554c",
   "metadata": {},
   "outputs": [],
   "source": []
  },
  {
   "cell_type": "code",
   "execution_count": null,
   "id": "11f7504f-f68d-4ea3-8b65-ae592b7e6445",
   "metadata": {},
   "outputs": [],
   "source": []
  },
  {
   "cell_type": "code",
   "execution_count": null,
   "id": "e08cfdd6-34b0-464d-bc4d-09b8af16d09b",
   "metadata": {},
   "outputs": [],
   "source": [
    "# объеденить маленькие пересекающиеся зоны в одну большую\n",
    "# ? делать диапазон inRange больше или меньше?"
   ]
  },
  {
   "cell_type": "code",
   "execution_count": null,
   "id": "cf1c2a32-e1ca-4c1c-9cd2-62ac6477543a",
   "metadata": {},
   "outputs": [],
   "source": []
  }
 ],
 "metadata": {
  "kernelspec": {
   "display_name": "Python 3 (ipykernel)",
   "language": "python",
   "name": "python3"
  },
  "language_info": {
   "codemirror_mode": {
    "name": "ipython",
    "version": 3
   },
   "file_extension": ".py",
   "mimetype": "text/x-python",
   "name": "python",
   "nbconvert_exporter": "python",
   "pygments_lexer": "ipython3",
   "version": "3.11.3"
  }
 },
 "nbformat": 4,
 "nbformat_minor": 5
}
