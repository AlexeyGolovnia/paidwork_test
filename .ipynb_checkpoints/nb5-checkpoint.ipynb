{
 "cells": [
  {
   "cell_type": "code",
   "execution_count": 1,
   "id": "aae0012c-b481-4e8f-8da5-de065ed719c9",
   "metadata": {},
   "outputs": [
    {
     "ename": "ModuleNotFoundError",
     "evalue": "No module named 't1'",
     "output_type": "error",
     "traceback": [
      "\u001b[0;31m---------------------------------------------------------------------------\u001b[0m",
      "\u001b[0;31mModuleNotFoundError\u001b[0m                       Traceback (most recent call last)",
      "Cell \u001b[0;32mIn[1], line 8\u001b[0m\n\u001b[1;32m      1\u001b[0m \u001b[38;5;66;03m# import numpy as np\u001b[39;00m\n\u001b[1;32m      2\u001b[0m \u001b[38;5;66;03m# from IPython.display import display, Image\u001b[39;00m\n\u001b[1;32m      3\u001b[0m \u001b[38;5;66;03m# import ipywidgets as widgets\u001b[39;00m\n\u001b[0;32m   (...)\u001b[0m\n\u001b[1;32m      6\u001b[0m \u001b[38;5;66;03m# import time\u001b[39;00m\n\u001b[1;32m      7\u001b[0m \u001b[38;5;66;03m# import threading\u001b[39;00m\n\u001b[0;32m----> 8\u001b[0m \u001b[38;5;28;01mimport\u001b[39;00m \u001b[38;5;21;01mt1\u001b[39;00m\n\u001b[1;32m      9\u001b[0m \u001b[38;5;66;03m# from t1 import preprocess, contours, reorder, get_warp\u001b[39;00m\n",
      "\u001b[0;31mModuleNotFoundError\u001b[0m: No module named 't1'"
     ]
    }
   ],
   "source": [
    "# import numpy as np\n",
    "# from IPython.display import display, Image\n",
    "# import ipywidgets as widgets\n",
    "# from ipywidgets import interact, Layout\n",
    "# import cvzone\n",
    "# import time\n",
    "# import threading\n",
    "import t1\n",
    "# from t1 import preprocess, contours, reorder, get_warp"
   ]
  },
  {
   "cell_type": "code",
   "execution_count": 2,
   "id": "31e3c230-9b1b-4b2c-acbf-4ea76e6f2e09",
   "metadata": {},
   "outputs": [],
   "source": [
    "width_img = 1280\n",
    "height_img = 960"
   ]
  },
  {
   "cell_type": "code",
   "execution_count": null,
   "id": "893375c4-c2f6-4cf4-a2b1-039a14b4abb2",
   "metadata": {},
   "outputs": [],
   "source": [
    "stopButton = widgets.ToggleButton(description='Stop', disabled=False)\n",
    "\n"
   ]
  },
  {
   "cell_type": "code",
   "execution_count": null,
   "id": "1788162c-37cc-420d-ae3e-6ce308f36717",
   "metadata": {},
   "outputs": [],
   "source": []
  },
  {
   "cell_type": "code",
   "execution_count": null,
   "id": "cdc41714-9d54-4720-bf2d-8fb0a2f8318d",
   "metadata": {},
   "outputs": [],
   "source": []
  },
  {
   "cell_type": "code",
   "execution_count": null,
   "id": "84555a61-8920-4d37-97c7-c005b821ea68",
   "metadata": {},
   "outputs": [],
   "source": []
  },
  {
   "cell_type": "code",
   "execution_count": null,
   "id": "31f9020a-e9b0-4dc7-8683-b80507ee935d",
   "metadata": {},
   "outputs": [],
   "source": []
  },
  {
   "cell_type": "code",
   "execution_count": null,
   "id": "d9351bc7-7984-4466-8441-6ac4c48fa4ee",
   "metadata": {},
   "outputs": [],
   "source": []
  }
 ],
 "metadata": {
  "kernelspec": {
   "display_name": "Python 3 (ipykernel)",
   "language": "python",
   "name": "python3"
  },
  "language_info": {
   "codemirror_mode": {
    "name": "ipython",
    "version": 3
   },
   "file_extension": ".py",
   "mimetype": "text/x-python",
   "name": "python",
   "nbconvert_exporter": "python",
   "pygments_lexer": "ipython3",
   "version": "3.11.3"
  }
 },
 "nbformat": 4,
 "nbformat_minor": 5
}
