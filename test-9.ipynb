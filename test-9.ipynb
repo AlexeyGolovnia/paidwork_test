{
 "cells": [
  {
   "cell_type": "code",
   "execution_count": 1,
   "id": "a8b181c1-f58b-468d-9486-820b81feaf19",
   "metadata": {},
   "outputs": [],
   "source": [
    "# jakiś tekst z Internetu\n",
    "\n",
    "text = open('pizza.txt').read().lower()"
   ]
  },
  {
   "cell_type": "code",
   "execution_count": 2,
   "id": "535c4919-d164-4de4-beb3-fca5b3963898",
   "metadata": {},
   "outputs": [
    {
     "data": {
      "text/plain": [
       "'pizza, the delectable and iconic dish that has transcended borders and captivated taste buds worldwide, is a testament to the extraordinary fusion of flavors, creativity, and cultural significance. originating from the sun-kissed lands of italy, pizza has evolved into an art form that unites people '"
      ]
     },
     "execution_count": 2,
     "metadata": {},
     "output_type": "execute_result"
    }
   ],
   "source": [
    "text[:300]"
   ]
  },
  {
   "cell_type": "code",
   "execution_count": 3,
   "id": "249afa77-69b2-4ea6-9472-4ed00ff368e8",
   "metadata": {},
   "outputs": [],
   "source": [
    "# tokenizacja tekstu\n",
    "\n",
    "from nltk.tokenize import RegexpTokenizer\n",
    "tokenizer = RegexpTokenizer('\\w+')\n",
    "\n",
    "tokens = tokenizer.tokenize(text)"
   ]
  },
  {
   "cell_type": "code",
   "execution_count": 4,
   "id": "6ce5e524-bab1-4226-aa55-bee4822eefbb",
   "metadata": {},
   "outputs": [],
   "source": [
    "# słowniki dla występujących słów\n",
    "\n",
    "import numpy as np\n",
    "\n",
    "unique_tokens = np.unique(tokens)\n",
    "unique_token_index = {token:idx for idx, token in enumerate(unique_tokens)}\n",
    "idx2word = {idx:token for idx, token in enumerate(unique_tokens)}"
   ]
  },
  {
   "cell_type": "code",
   "execution_count": 5,
   "id": "af8886bb-c136-4cd4-8b8b-aa5f19a82540",
   "metadata": {},
   "outputs": [
    {
     "data": {
      "text/plain": [
       "683"
      ]
     },
     "execution_count": 5,
     "metadata": {},
     "output_type": "execute_result"
    }
   ],
   "source": [
    "len(unique_token_index)"
   ]
  },
  {
   "cell_type": "code",
   "execution_count": 6,
   "id": "505458a4-c039-4a6b-b7b5-1531b710fb7d",
   "metadata": {},
   "outputs": [],
   "source": [
    "# parametry dla modelu\n",
    "\n",
    "n_step = 3 # liczba zapamiętanych słów\n",
    "batch_size = 10 # rozmiar batczu\n",
    "n_class = len(unique_token_index) # \n",
    "n_hidden = 5 # liczba unikalnych słów w tekście"
   ]
  },
  {
   "cell_type": "code",
   "execution_count": 7,
   "id": "d066dce3-8440-4e19-a934-3bea80c6b65d",
   "metadata": {},
   "outputs": [],
   "source": [
    "# przygotowanie tekstu do modelu. podział na features i targets\n",
    "\n",
    "import torch\n",
    "\n",
    "def preparing_text(tokens, step=n_step):\n",
    "    input_batch = []\n",
    "    target_batch = []\n",
    "    eye = np.eye(n_class, dtype='float32')\n",
    "    \n",
    "    for i in range(len(tokens) - step):\n",
    "        input = tokens[i:i + step]\n",
    "        input = [unique_token_index[n] for n in input]\n",
    "        input_batch.append(eye[input])\n",
    "\n",
    "        target = tokens[i + step]\n",
    "        target = unique_token_index[target]\n",
    "        target_batch.append(eye[target])\n",
    "\n",
    "    return torch.from_numpy(np.array(input_batch)), \\\n",
    "           torch.from_numpy(np.array(target_batch))"
   ]
  },
  {
   "cell_type": "code",
   "execution_count": 8,
   "id": "924b064d-07e8-4edb-bd8c-845dae571cee",
   "metadata": {},
   "outputs": [],
   "source": [
    "input_tensor, target_tensor = preparing_text(tokens=tokens)"
   ]
  },
  {
   "cell_type": "code",
   "execution_count": 9,
   "id": "79684a61-e324-4715-91fa-63219dc45cfa",
   "metadata": {},
   "outputs": [
    {
     "data": {
      "text/plain": [
       "torch.Size([1711, 3, 683])"
      ]
     },
     "execution_count": 9,
     "metadata": {},
     "output_type": "execute_result"
    }
   ],
   "source": [
    "input_tensor.shape"
   ]
  },
  {
   "cell_type": "code",
   "execution_count": 10,
   "id": "c48c4d89-6921-409a-a18b-27a0ae078488",
   "metadata": {},
   "outputs": [
    {
     "data": {
      "text/plain": [
       "torch.Size([1711, 683])"
      ]
     },
     "execution_count": 10,
     "metadata": {},
     "output_type": "execute_result"
    }
   ],
   "source": [
    "target_tensor.shape"
   ]
  },
  {
   "cell_type": "code",
   "execution_count": 11,
   "id": "d5daa514-1272-4765-9f91-3469a2cb8a11",
   "metadata": {},
   "outputs": [],
   "source": [
    "import torch.utils.data as Data\n",
    "\n",
    "dataset = Data.TensorDataset(input_tensor, target_tensor)\n",
    "loader = Data.DataLoader(dataset, batch_size, True)"
   ]
  },
  {
   "cell_type": "code",
   "execution_count": 12,
   "id": "0d26b6c9-4212-4a9c-91b3-89d5985b063e",
   "metadata": {},
   "outputs": [],
   "source": [
    "# model GRU wypadł nieco lepiej niż RNN\n",
    "\n",
    "import torch.nn as nn\n",
    "\n",
    "class TextGRU(nn.Module):\n",
    "    def __init__(self):\n",
    "        super(TextGRU, self).__init__()\n",
    "        # self.rnn = nn.RNN(input_size=n_class, hidden_size=n_hidden)\n",
    "        self.rnn = nn.GRU(input_size=n_class, hidden_size=n_hidden)\n",
    "        self.fc = nn.Linear(n_hidden, n_class)\n",
    "\n",
    "    def forward(self, hidden, X):\n",
    "        X = X.transpose(0, 1)\n",
    "        out, hidden = self.rnn(X, hidden)\n",
    "        out = out[-1]\n",
    "        model = self.fc(out)\n",
    "        return model"
   ]
  },
  {
   "cell_type": "code",
   "execution_count": 13,
   "id": "b3e5a20c-ffce-49ff-bf45-705c1eda077f",
   "metadata": {},
   "outputs": [],
   "source": [
    "# parametry modelu\n",
    "\n",
    "import torch.optim as optim\n",
    "\n",
    "model = TextGRU()\n",
    "criterion = nn.CrossEntropyLoss()\n",
    "optimizer = optim.Adam(model.parameters(), lr=0.001)"
   ]
  },
  {
   "cell_type": "code",
   "execution_count": 14,
   "id": "63b5da1a-524e-4aad-b308-9e54ac535a24",
   "metadata": {},
   "outputs": [
    {
     "name": "stdout",
     "output_type": "stream",
     "text": [
      "6.550638750542042\n",
      "3.4714042343372524\n",
      "2.772850848214571\n",
      "2.439685447011576\n",
      "2.254794047322384\n",
      "2.113273005845935\n",
      "1.9764521006321492\n",
      "1.876737269551255\n",
      "1.7879124619066715\n",
      "1.7125036166764276\n",
      "1.6590240757132686\n",
      "1.595887685237929\n",
      "1.5442764059055683\n",
      "1.505045902590419\n",
      "1.4588336092095042\n"
     ]
    }
   ],
   "source": [
    "# trening modelu\n",
    "\n",
    "loss_list = []\n",
    "for epoch in range(1500):\n",
    "    loss_avg = []\n",
    "    for x, y in loader:\n",
    "        hidden = torch.zeros(1, x.shape[0], n_hidden)\n",
    "        pred = model(hidden, x)\n",
    "        loss = criterion(pred, y)\n",
    "        loss_avg.append(loss.item())\n",
    "            \n",
    "        optimizer.zero_grad()\n",
    "        loss.backward()\n",
    "        optimizer.step()\n",
    "\n",
    "    if epoch % 100 == 0:\n",
    "        loss_list.append(np.mean(loss_avg))\n",
    "        print(np.mean(loss_avg))"
   ]
  },
  {
   "cell_type": "code",
   "execution_count": 15,
   "id": "bade2f57-b73d-457b-a9f7-c68290db1f90",
   "metadata": {},
   "outputs": [
    {
     "data": {
      "text/plain": [
       "['advancements']"
      ]
     },
     "execution_count": 15,
     "metadata": {},
     "output_type": "execute_result"
    }
   ],
   "source": [
    "# przykład odgadnięcia słowa\n",
    "\n",
    "predic_text = ['iconic', 'pizza', 'for', 'people']\n",
    "hidden = torch.zeros(1, len(predic_text) - n_step, n_hidden)\n",
    "predict = model(hidden, preparing_text(predic_text)[0]).data.max(1, keepdim=True)[1]\n",
    "[idx2word[i.item()] for i in predict]"
   ]
  },
  {
   "cell_type": "code",
   "execution_count": 16,
   "id": "60115801-f0cd-4246-8c81-82807d684dc6",
   "metadata": {},
   "outputs": [
    {
     "data": {
      "image/png": "[encoded data removed]",
      "text/plain": [
       "<Figure size 640x480 with 1 Axes>"
      ]
     },
     "metadata": {},
     "output_type": "display_data"
    }
   ],
   "source": [
    "# wykres strat w zależności od epoki\n",
    "\n",
    "import matplotlib.pyplot as plt\n",
    "plt.plot(loss_list);"
   ]
  },
  {
   "cell_type": "code",
   "execution_count": 17,
   "id": "66e023ca-660f-4a47-bb97-8adca59fedd1",
   "metadata": {},
   "outputs": [],
   "source": [
    "# proszę pana powiedzieć, co muszę robić dalej?"
   ]
  }
 ],
 "metadata": {
  "kernelspec": {
   "display_name": "Python 3 (ipykernel)",
   "language": "python",
   "name": "python3"
  },
  "language_info": {
   "codemirror_mode": {
    "name": "ipython",
    "version": 3
   },
   "file_extension": ".py",
   "mimetype": "text/x-python",
   "name": "python",
   "nbconvert_exporter": "python",
   "pygments_lexer": "ipython3",
   "version": "3.11.3"
  }
 },
 "nbformat": 4,
 "nbformat_minor": 5
}
