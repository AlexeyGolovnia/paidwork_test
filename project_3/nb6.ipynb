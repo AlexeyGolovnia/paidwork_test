{
 "cells": [
  {
   "cell_type": "code",
   "execution_count": 1,
   "id": "26d79740-988c-44af-932c-2aa5bbab7d38",
   "metadata": {},
   "outputs": [],
   "source": [
    "import cv2\n",
    "import pandas as pd\n",
    "import numpy as np\n",
    "from IPython.display import display, Image\n",
    "import ipywidgets as widgets\n",
    "from ipywidgets import interact, Layout, GridspecLayout\n",
    "import cvzone\n",
    "import threading\n",
    "import multiprocessing as mp\n",
    "from multiprocessing.shared_memory import SharedMemory\n",
    "from importlib import reload\n",
    "import t1, t2, t3\n",
    "import pickle"
   ]
  },
  {
   "cell_type": "code",
   "execution_count": 2,
   "id": "aef90771-5bc9-40b4-bfd6-a6e741ada59b",
   "metadata": {},
   "outputs": [],
   "source": [
    "!cp -f df.pkl data/\n",
    "!cp -f df1.pkl data/\n",
    "!cp -f l2.pkl data/\n",
    "!cp -f temp_model_0.pth data/"
   ]
  },
  {
   "cell_type": "code",
   "execution_count": 3,
   "id": "77b31aac-a56e-4dc0-ae37-71c95a6e5e0d",
   "metadata": {},
   "outputs": [
    {
     "data": {
      "application/vnd.jupyter.widget-view+json": {
       "model_id": "5368a06fafb24fc8a95d4ecb280284fe",
       "version_major": 2,
       "version_minor": 0
      },
      "text/plain": [
       "Tab(children=(GridBox(children=(ToggleButton(value=False, description='Stop'), HTML(value='abc', description='…"
      ]
     },
     "metadata": {},
     "output_type": "display_data"
    },
    {
     "data": {
      "text/plain": [
       "None"
      ]
     },
     "metadata": {},
     "output_type": "display_data"
    }
   ],
   "source": [
    "reload(t1)\n",
    "\n",
    "width_img = 1280\n",
    "height_img = 960\n",
    "\n",
    "with open('data/df.pkl', 'rb') as f:\n",
    "    df = pickle.load(f)\n",
    "\n",
    "ID_name = mp.Array('c', b'abcdefghijklmnopqrstuvwxyz')\n",
    "\n",
    "train = mp.Value('i', 0)\n",
    "prediction = mp.Value('i', 0)\n",
    "\n",
    "tmp = mp.Value('i', 0)\n",
    "tmp2 = mp.Value('i', 0)\n",
    "contours_size = mp.Value('i', 0)\n",
    "rectangles_sum = mp.Value('i', 0)\n",
    "\n",
    "frame_memory = SharedMemory(name='FrameMemory', create=True, size=width_img*height_img*3)\n",
    "contours_memory = SharedMemory(name='ContoursMemory', create=True, size=4096)\n",
    "rectangles_memory = SharedMemory(name='RectanglesMemory', create=True, size=100_000)\n",
    "\n",
    "p1 = mp.Process(target=t2.ocr_detect, args=(tmp, tmp2, width_img, height_img, rectangles_sum, contours_size,), daemon=True)\n",
    "p1.start()\n",
    "\n",
    "p2 = mp.Process(target=t3.model_detect, args=(rectangles_sum, prediction, train, tmp2, ID_name), daemon=True)\n",
    "p2.start()\n",
    "\n",
    "def b_close(cap):\n",
    "    cap.release()\n",
    "    frame_memory.close()\n",
    "    frame_memory.unlink()\n",
    "    contours_memory.close()\n",
    "    contours_memory.unlink()\n",
    "    rectangles_memory.close()\n",
    "    rectangles_memory.unlink()\n",
    "    p1.terminate()\n",
    "    p2.terminate()\n",
    "\n",
    "def b_train(ID_widget, ID_name, train, train_button):\n",
    "    if len(ID_widget.value) > 0:\n",
    "        ID_name.value = str.encode(ID_widget.value)\n",
    "        train.value = 1\n",
    "    train_button.value = False\n",
    "    \n",
    "def view(tab, df):\n",
    "    cap = cv2.VideoCapture(0)\n",
    "    display_handle=display(None, display_id=True)\n",
    "    frame_data = np.ndarray((height_img, width_img, 3), dtype=np.uint8, buffer=frame_memory.buf)\n",
    "    contours_data = np.ndarray((1,4), dtype=np.int32, buffer=contours_memory.buf)\n",
    "    stack = []\n",
    "    img_warped = cap.read()[1].copy()\n",
    "\n",
    "    while True:\n",
    "        _, frame = cap.read()\n",
    "        frame_masked = t1.preprocess(frame)\n",
    "        frame_contours = t1.contours(frame_masked, frame)\n",
    "\n",
    "        if frame_contours.size != 0:\n",
    "            img_warped = t1.get_warp(frame, frame_contours)\n",
    "            contours_size.value = 1\n",
    "            state = tab.get_state('selected_index')\n",
    "            if tmp.value == 1:\n",
    "                frame_data[:,:,:] = img_warped[:,:,:]\n",
    "                contours_data = np.ndarray((rectangles_sum.value,4), dtype=np.int32, buffer=contours_memory.buf)\n",
    "                tmp.value = 0\n",
    "            frame_detect = t1.text_detection(frame, img_warped, contours_data, df, rectangles_sum, train, prediction)\n",
    "                 \n",
    "            if state['selected_index'] != 1:\n",
    "                stack = [frame, img_warped]\n",
    "            else:\n",
    "                filt_online = t1.filters_online(img_warped, t1.hue, t1.sat, t1.val, t1.x, t1.y, t1.w, t1.h)\n",
    "                stack = [frame, filt_online]   \n",
    "        else:\n",
    "            # img_warped = frame.copy()\n",
    "            stack = [frame, frame]\n",
    "            rectangles_sum.value = 0\n",
    "            prediction.value = 0\n",
    "            frame_data[:,:,:] = img_warped[0,0,0]\n",
    "\n",
    "        img_stack = cvzone.stackImages(stack, 2, 1)\n",
    "\n",
    "        _, frame = cv2.imencode('.jpeg', img_stack) \n",
    "        display_handle.update(Image(data=frame.tobytes()))  \n",
    "\n",
    "        if train.value == 2:\n",
    "            with open('data/df.pkl', 'rb') as f:\n",
    "                df = pickle.load(f)\n",
    "            train.value = 0\n",
    "        \n",
    "        if t1.stop_button.value==True:\n",
    "            b_close(cap)\n",
    "            display_handle.update(None)\n",
    "\n",
    "        if t1.train_button.value==True:\n",
    "            b_train(t1.ID_widget, ID_name, train, t1.train_button)\n",
    "\n",
    "display(t1.tab)\n",
    "thread = threading.Thread(target=view, args=(t1.tab, df,))\n",
    "thread.start()"
   ]
  },
  {
   "cell_type": "code",
   "execution_count": 3,
   "id": "c095708c-181e-41fc-9b5d-b50c2c2ca043",
   "metadata": {},
   "outputs": [],
   "source": [
    "# Driving Licence (FRONT)\n",
    "# Driving Licence (BACK)"
   ]
  },
  {
   "cell_type": "code",
   "execution_count": 40,
   "id": "fd87ca5e-83eb-4435-a6f5-a0f75bad80e1",
   "metadata": {},
   "outputs": [],
   "source": [
    "p1.terminate()\n",
    "p2.terminate()\n",
    "frame_memory.close()\n",
    "frame_memory.unlink()\n",
    "contours_memory.close()\n",
    "contours_memory.unlink()\n",
    "rectangles_memory.close()\n",
    "rectangles_memory.unlink()"
   ]
  },
  {
   "cell_type": "code",
   "execution_count": 41,
   "id": "c84efc26-9ab1-437e-be2e-4bd01bdc2236",
   "metadata": {},
   "outputs": [
    {
     "name": "stdout",
     "output_type": "stream",
     "text": [
      "False False False\n"
     ]
    }
   ],
   "source": [
    "print(p1.is_alive(), p2.is_alive(), thread.is_alive())"
   ]
  },
  {
   "cell_type": "code",
   "execution_count": null,
   "id": "cb853408-2f0e-4b81-8de2-deced08d991c",
   "metadata": {},
   "outputs": [],
   "source": []
  },
  {
   "cell_type": "code",
   "execution_count": null,
   "id": "f47abb65-457f-499e-b332-44a0faabbc64",
   "metadata": {},
   "outputs": [],
   "source": []
  },
  {
   "cell_type": "code",
   "execution_count": null,
   "id": "f4d53965-1c82-40fe-9c61-1f27a4d860cd",
   "metadata": {},
   "outputs": [],
   "source": []
  },
  {
   "cell_type": "code",
   "execution_count": 3,
   "id": "b2ee1495-ff94-4341-aa48-069016524ec3",
   "metadata": {},
   "outputs": [
    {
     "data": {
      "text/html": [
       "<div>\n",
       "<style scoped>\n",
       "    .dataframe tbody tr th:only-of-type {\n",
       "        vertical-align: middle;\n",
       "    }\n",
       "\n",
       "    .dataframe tbody tr th {\n",
       "        vertical-align: top;\n",
       "    }\n",
       "\n",
       "    .dataframe thead th {\n",
       "        text-align: right;\n",
       "    }\n",
       "</style>\n",
       "<table border=\"1\" class=\"dataframe\">\n",
       "  <thead>\n",
       "    <tr style=\"text-align: right;\">\n",
       "      <th></th>\n",
       "      <th>ID</th>\n",
       "      <th>Name</th>\n",
       "    </tr>\n",
       "  </thead>\n",
       "  <tbody>\n",
       "    <tr>\n",
       "      <th>0</th>\n",
       "      <td>0</td>\n",
       "      <td>Karta Polaka (FRONT)</td>\n",
       "    </tr>\n",
       "    <tr>\n",
       "      <th>1</th>\n",
       "      <td>1</td>\n",
       "      <td>Karta Polaka (BACK)</td>\n",
       "    </tr>\n",
       "  </tbody>\n",
       "</table>\n",
       "</div>"
      ],
      "text/plain": [
       "   ID                  Name\n",
       "0   0  Karta Polaka (FRONT)\n",
       "1   1   Karta Polaka (BACK)"
      ]
     },
     "execution_count": 3,
     "metadata": {},
     "output_type": "execute_result"
    }
   ],
   "source": [
    "with open('df.pkl', 'rb') as f:\n",
    "    df = pickle.load(f)\n",
    "df"
   ]
  },
  {
   "cell_type": "code",
   "execution_count": 24,
   "id": "0c3dd2ef-ceb0-474d-9dfd-3e5d3f5d34ef",
   "metadata": {},
   "outputs": [
    {
     "data": {
      "text/html": [
       "<div>\n",
       "<style scoped>\n",
       "    .dataframe tbody tr th:only-of-type {\n",
       "        vertical-align: middle;\n",
       "    }\n",
       "\n",
       "    .dataframe tbody tr th {\n",
       "        vertical-align: top;\n",
       "    }\n",
       "\n",
       "    .dataframe thead th {\n",
       "        text-align: right;\n",
       "    }\n",
       "</style>\n",
       "<table border=\"1\" class=\"dataframe\">\n",
       "  <thead>\n",
       "    <tr style=\"text-align: right;\">\n",
       "      <th></th>\n",
       "      <th>HSV</th>\n",
       "      <th>ID</th>\n",
       "      <th>Watermark_contour</th>\n",
       "    </tr>\n",
       "  </thead>\n",
       "  <tbody>\n",
       "    <tr>\n",
       "      <th>0</th>\n",
       "      <td>[]</td>\n",
       "      <td>-1</td>\n",
       "      <td>[[0, 0, 0, 0]]</td>\n",
       "    </tr>\n",
       "    <tr>\n",
       "      <th>1</th>\n",
       "      <td>[[0, 179, 160, 255, 0, 255]]</td>\n",
       "      <td>0</td>\n",
       "      <td>[[5, 5, 220, 295]]</td>\n",
       "    </tr>\n",
       "    <tr>\n",
       "      <th>2</th>\n",
       "      <td>[[0, 179, 65, 255, 0, 255], [0, 65, 23, 255, 0...</td>\n",
       "      <td>1</td>\n",
       "      <td>[[320, 5, 670, 500], [1085, 30, 180, 220]]</td>\n",
       "    </tr>\n",
       "  </tbody>\n",
       "</table>\n",
       "</div>"
      ],
      "text/plain": [
       "                                                 HSV  ID  \\\n",
       "0                                                 []  -1   \n",
       "1                       [[0, 179, 160, 255, 0, 255]]   0   \n",
       "2  [[0, 179, 65, 255, 0, 255], [0, 65, 23, 255, 0...   1   \n",
       "\n",
       "                            Watermark_contour  \n",
       "0                              [[0, 0, 0, 0]]  \n",
       "1                          [[5, 5, 220, 295]]  \n",
       "2  [[320, 5, 670, 500], [1085, 30, 180, 220]]  "
      ]
     },
     "execution_count": 24,
     "metadata": {},
     "output_type": "execute_result"
    }
   ],
   "source": [
    "with open('df1.pkl', 'rb') as f:\n",
    "    df1 = pickle.load(f)\n",
    "df1"
   ]
  },
  {
   "cell_type": "code",
   "execution_count": 40,
   "id": "af5b2026-6637-400a-be54-31d300964f94",
   "metadata": {},
   "outputs": [
    {
     "data": {
      "text/html": [
       "<div>\n",
       "<style scoped>\n",
       "    .dataframe tbody tr th:only-of-type {\n",
       "        vertical-align: middle;\n",
       "    }\n",
       "\n",
       "    .dataframe tbody tr th {\n",
       "        vertical-align: top;\n",
       "    }\n",
       "\n",
       "    .dataframe thead th {\n",
       "        text-align: right;\n",
       "    }\n",
       "</style>\n",
       "<table border=\"1\" class=\"dataframe\">\n",
       "  <thead>\n",
       "    <tr style=\"text-align: right;\">\n",
       "      <th></th>\n",
       "      <th>ID</th>\n",
       "      <th>Name</th>\n",
       "      <th>HSV</th>\n",
       "      <th>Watermark_contour</th>\n",
       "    </tr>\n",
       "  </thead>\n",
       "  <tbody>\n",
       "    <tr>\n",
       "      <th>0</th>\n",
       "      <td>0</td>\n",
       "      <td>Karta Polaka (FRONT)</td>\n",
       "      <td>[[0, 179, 160, 255, 0, 255]]</td>\n",
       "      <td>[[5, 5, 220, 295]]</td>\n",
       "    </tr>\n",
       "    <tr>\n",
       "      <th>1</th>\n",
       "      <td>1</td>\n",
       "      <td>Karta Polaka (BACK)</td>\n",
       "      <td>[[0, 179, 65, 255, 0, 255], [0, 65, 23, 255, 0...</td>\n",
       "      <td>[[320, 5, 670, 500], [1085, 30, 180, 220]]</td>\n",
       "    </tr>\n",
       "  </tbody>\n",
       "</table>\n",
       "</div>"
      ],
      "text/plain": [
       "   ID                  Name  \\\n",
       "0   0  Karta Polaka (FRONT)   \n",
       "1   1   Karta Polaka (BACK)   \n",
       "\n",
       "                                                 HSV  \\\n",
       "0                       [[0, 179, 160, 255, 0, 255]]   \n",
       "1  [[0, 179, 65, 255, 0, 255], [0, 65, 23, 255, 0...   \n",
       "\n",
       "                            Watermark_contour  \n",
       "0                          [[5, 5, 220, 295]]  \n",
       "1  [[320, 5, 670, 500], [1085, 30, 180, 220]]  "
      ]
     },
     "execution_count": 40,
     "metadata": {},
     "output_type": "execute_result"
    }
   ],
   "source": [
    "df.merge(df1, on='ID')"
   ]
  },
  {
   "cell_type": "code",
   "execution_count": null,
   "id": "ec09a596-77dc-421c-a1a5-42efc1f544e0",
   "metadata": {},
   "outputs": [],
   "source": []
  },
  {
   "cell_type": "code",
   "execution_count": null,
   "id": "3815cdde-ce07-4d7a-9f90-9e691ee5ddcf",
   "metadata": {},
   "outputs": [],
   "source": []
  },
  {
   "cell_type": "code",
   "execution_count": null,
   "id": "da8e1d96-5711-4d56-bba5-3c514c987ece",
   "metadata": {},
   "outputs": [],
   "source": []
  },
  {
   "cell_type": "code",
   "execution_count": null,
   "id": "7ff01d07-e0f5-4b1d-8c6d-c2b31af0e600",
   "metadata": {},
   "outputs": [],
   "source": []
  }
 ],
 "metadata": {
  "kernelspec": {
   "display_name": "Python 3 (ipykernel)",
   "language": "python",
   "name": "python3"
  },
  "language_info": {
   "codemirror_mode": {
    "name": "ipython",
    "version": 3
   },
   "file_extension": ".py",
   "mimetype": "text/x-python",
   "name": "python",
   "nbconvert_exporter": "python",
   "pygments_lexer": "ipython3",
   "version": "3.11.3"
  }
 },
 "nbformat": 4,
 "nbformat_minor": 5
}
